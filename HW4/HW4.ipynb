{
 "cells": [
  {
   "cell_type": "code",
   "execution_count": 2,
   "metadata": {},
   "outputs": [],
   "source": [
    "import numpy as np\n",
    "import pandas as pd\n",
    "from sklearn.svm import SVC, SVR\n",
    "from sklearn.metrics import accuracy_score"
   ]
  },
  {
   "cell_type": "markdown",
   "metadata": {},
   "source": [
    "## Load data"
   ]
  },
  {
   "cell_type": "code",
   "execution_count": 3,
   "metadata": {},
   "outputs": [],
   "source": [
    "x_train = np.load(\"x_train.npy\")\n",
    "y_train = np.load(\"y_train.npy\")\n",
    "x_test = np.load(\"x_test.npy\")\n",
    "# y_test = np.load(\"y_test.npy\")"
   ]
  },
  {
   "cell_type": "code",
   "execution_count": 4,
   "metadata": {},
   "outputs": [
    {
     "name": "stdout",
     "output_type": "stream",
     "text": [
      "(7000, 300)\n"
     ]
    }
   ],
   "source": [
    "# 7000 data with 300 features\n",
    "print(x_train.shape)"
   ]
  },
  {
   "cell_type": "code",
   "execution_count": 5,
   "metadata": {},
   "outputs": [
    {
     "name": "stdout",
     "output_type": "stream",
     "text": [
      "[0 1]\n"
     ]
    }
   ],
   "source": [
    "# It's a binary classification problem \n",
    "print(np.unique(y_train))"
   ]
  },
  {
   "cell_type": "markdown",
   "metadata": {},
   "source": [
    "## Question 1\n",
    "K-fold data partition: Implement the K-fold cross-validation function.<br />\n",
    "Your function should take K as an argument and return a list of lists (len(list) should equal to K), which contains K elements. <br />\n",
    "Each element is a list contains two parts, the first part contains the index of all training folds, e.g. Fold 2 to Fold 5 in split 1. <br />\n",
    "The second part contains the index of validation fold, e.g. Fold 1 in  split 1"
   ]
  },
  {
   "cell_type": "code",
   "execution_count": 6,
   "metadata": {},
   "outputs": [],
   "source": [
    "def cross_validation(x_train, y_train, k=5):\n",
    "    # get an array of shuffled index\n",
    "    shuffle_index = np.random.choice(len(x_train), len(x_train), replace=False)\n",
    "    kfold_data = []\n",
    "    r, n = len(x_train) % k, len(x_train) // k\n",
    "\n",
    "    i = 0\n",
    "    while i < len(x_train):\n",
    "        # to handle the case that the sample size is not divisible by k\n",
    "        if r > 0: # first r folds have size (n + 1)\n",
    "            train = np.concatenate((shuffle_index[:i], shuffle_index[i+n+1:]), axis=0)\n",
    "            val = shuffle_index[i:i+n+1]\n",
    "            kfold_data.append([train, val])\n",
    "            i += n + 1\n",
    "            r -= 1\n",
    "        else:\n",
    "            train = np.concatenate((shuffle_index[:i], shuffle_index[i+n:]), axis=0)\n",
    "            val = shuffle_index[i:i+n]\n",
    "            kfold_data.append([train, val])\n",
    "            i += n\n",
    "\n",
    "    return kfold_data"
   ]
  },
  {
   "cell_type": "code",
   "execution_count": 7,
   "metadata": {},
   "outputs": [],
   "source": [
    "kfold_data = cross_validation(x_train, y_train, k=10)\n",
    "assert len(kfold_data) == 10 # should contain 10 fold of data\n",
    "assert len(kfold_data[0]) == 2 # each element should contain train fold and validation fold\n",
    "assert kfold_data[0][1].shape[0] == 700 # The number of data in each validation fold should equal to training data divieded by K"
   ]
  },
  {
   "cell_type": "markdown",
   "metadata": {},
   "source": [
    "## example"
   ]
  },
  {
   "cell_type": "code",
   "execution_count": 8,
   "metadata": {},
   "outputs": [
    {
     "name": "stdout",
     "output_type": "stream",
     "text": [
      "Split: 1, Training index: [ 1  3  4  5  7  8 10 11 12 13 14 15 16 17 18 19], Validation index: [0 2 6 9]\n",
      "Split: 2, Training index: [ 0  2  3  4  5  6  8  9 10 11 12 13 14 15 17 18], Validation index: [ 1  7 16 19]\n",
      "Split: 3, Training index: [ 0  1  2  3  5  6  7  8  9 11 12 14 16 17 18 19], Validation index: [ 4 10 13 15]\n",
      "Split: 4, Training index: [ 0  1  2  3  4  6  7  9 10 11 13 14 15 16 18 19], Validation index: [ 5  8 12 17]\n",
      "Split: 5, Training index: [ 0  1  2  4  5  6  7  8  9 10 12 13 15 16 17 19], Validation index: [ 3 11 14 18]\n"
     ]
    }
   ],
   "source": [
    "from sklearn.model_selection import KFold\n",
    "\n",
    "X = np.arange(20)\n",
    "kf = KFold(n_splits=5, shuffle=True)\n",
    "kfold_data = []\n",
    "for i, (train_index, val_index) in enumerate(kf.split(X)):\n",
    "    print(\"Split: %s, Training index: %s, Validation index: %s\" % (i+1, train_index, val_index))\n",
    "    kfold_data.append([train_index, val_index])"
   ]
  },
  {
   "cell_type": "code",
   "execution_count": 9,
   "metadata": {},
   "outputs": [],
   "source": [
    "assert len(kfold_data) == 5 # should contain 5 fold of data\n",
    "assert len(kfold_data[0]) == 2 # each element should contains index of training fold and validation fold\n",
    "assert kfold_data[0][1].shape[0] == 4 # The number of data in each validation fold should equal to training data divieded by K"
   ]
  },
  {
   "cell_type": "markdown",
   "metadata": {},
   "source": [
    "## Question 2\n",
    "Using sklearn.svm.SVC to train a classifier on the provided train set and conduct the grid search of “C” and “gamma” to find the best parameters by cross-validation."
   ]
  },
  {
   "cell_type": "code",
   "execution_count": 10,
   "metadata": {},
   "outputs": [],
   "source": [
    "clf = SVC(C=1.0, kernel='rbf', gamma=0.01)"
   ]
  },
  {
   "cell_type": "code",
   "execution_count": 11,
   "metadata": {},
   "outputs": [
    {
     "name": "stdout",
     "output_type": "stream",
     "text": [
      "C: 10000 \tG: 5e-05 \t\t 0.9925714285714285\n",
      "C: 10000 \tG: 0.0001 \t\t 0.9932857142857141\n",
      "C: 10000 \tG: 0.00015 \t\t 0.9931428571428571\n",
      "C: 10000 \tG: 0.0002 \t\t 0.9927142857142857\n",
      "C: 10000 \tG: 0.00025 \t\t 0.9917142857142857\n",
      "C: 10000 \tG: 0.0003 \t\t 0.9911428571428571\n",
      "C: 10000 \tG: 0.00035 \t\t 0.9907142857142859\n",
      "C: 10000 \tG: 0.0004 \t\t 0.9912857142857143\n",
      "C: 10000 \tG: 0.00045 \t\t 0.9782857142857143\n",
      "C: 10000 \tG: 0.0005 \t\t 0.859\n",
      "C: 1000 \tG: 5e-05 \t\t 0.9925714285714285\n",
      "C: 1000 \tG: 0.0001 \t\t 0.9932857142857141\n",
      "C: 1000 \tG: 0.00015 \t\t 0.9931428571428571\n",
      "C: 1000 \tG: 0.0002 \t\t 0.9927142857142857\n",
      "C: 1000 \tG: 0.00025 \t\t 0.9917142857142857\n",
      "C: 1000 \tG: 0.0003 \t\t 0.9911428571428571\n",
      "C: 1000 \tG: 0.00035 \t\t 0.9907142857142859\n",
      "C: 1000 \tG: 0.0004 \t\t 0.9912857142857143\n",
      "C: 1000 \tG: 0.00045 \t\t 0.9782857142857143\n",
      "C: 1000 \tG: 0.0005 \t\t 0.859\n",
      "C: 100 \tG: 5e-05 \t\t 0.9925714285714285\n",
      "C: 100 \tG: 0.0001 \t\t 0.9932857142857141\n",
      "C: 100 \tG: 0.00015 \t\t 0.9931428571428571\n",
      "C: 100 \tG: 0.0002 \t\t 0.9927142857142857\n",
      "C: 100 \tG: 0.00025 \t\t 0.9917142857142857\n",
      "C: 100 \tG: 0.0003 \t\t 0.9911428571428571\n",
      "C: 100 \tG: 0.00035 \t\t 0.9907142857142859\n",
      "C: 100 \tG: 0.0004 \t\t 0.9912857142857143\n",
      "C: 100 \tG: 0.00045 \t\t 0.9782857142857143\n",
      "C: 100 \tG: 0.0005 \t\t 0.859\n",
      "C: 10 \tG: 5e-05 \t\t 0.9925714285714285\n",
      "C: 10 \tG: 0.0001 \t\t 0.9932857142857141\n",
      "C: 10 \tG: 0.00015 \t\t 0.9931428571428571\n",
      "C: 10 \tG: 0.0002 \t\t 0.9927142857142857\n",
      "C: 10 \tG: 0.00025 \t\t 0.9917142857142857\n",
      "C: 10 \tG: 0.0003 \t\t 0.9911428571428571\n",
      "C: 10 \tG: 0.00035 \t\t 0.9907142857142859\n",
      "C: 10 \tG: 0.0004 \t\t 0.9912857142857143\n",
      "C: 10 \tG: 0.00045 \t\t 0.9782857142857143\n",
      "C: 10 \tG: 0.0005 \t\t 0.859\n",
      "C: 1 \tG: 5e-05 \t\t 0.9922857142857143\n",
      "C: 1 \tG: 0.0001 \t\t 0.9934285714285714\n",
      "C: 1 \tG: 0.00015 \t\t 0.9931428571428571\n",
      "C: 1 \tG: 0.0002 \t\t 0.9927142857142857\n",
      "C: 1 \tG: 0.00025 \t\t 0.9915714285714285\n",
      "C: 1 \tG: 0.0003 \t\t 0.9911428571428571\n",
      "C: 1 \tG: 0.00035 \t\t 0.9907142857142859\n",
      "C: 1 \tG: 0.0004 \t\t 0.9912857142857143\n",
      "C: 1 \tG: 0.00045 \t\t 0.9774285714285714\n",
      "C: 1 \tG: 0.0005 \t\t 0.8407142857142856\n",
      "C: 0.5 \tG: 5e-05 \t\t 0.9892857142857142\n",
      "C: 0.5 \tG: 0.0001 \t\t 0.993\n",
      "C: 0.5 \tG: 0.00015 \t\t 0.9927142857142858\n",
      "C: 0.5 \tG: 0.0002 \t\t 0.9917142857142857\n",
      "C: 0.5 \tG: 0.00025 \t\t 0.9867142857142858\n",
      "C: 0.5 \tG: 0.0003 \t\t 0.808142857142857\n",
      "C: 0.5 \tG: 0.00035 \t\t 0.49742857142857144\n",
      "C: 0.5 \tG: 0.0004 \t\t 0.49742857142857144\n",
      "C: 0.5 \tG: 0.00045 \t\t 0.49742857142857144\n",
      "C: 0.5 \tG: 0.0005 \t\t 0.49742857142857144\n",
      "C: 0.3 \tG: 5e-05 \t\t 0.9845714285714287\n",
      "C: 0.3 \tG: 0.0001 \t\t 0.9912857142857142\n",
      "C: 0.3 \tG: 0.00015 \t\t 0.9907142857142857\n",
      "C: 0.3 \tG: 0.0002 \t\t 0.9848571428571429\n",
      "C: 0.3 \tG: 0.00025 \t\t 0.9382857142857143\n",
      "C: 0.3 \tG: 0.0003 \t\t 0.4975714285714286\n",
      "C: 0.3 \tG: 0.00035 \t\t 0.49742857142857144\n",
      "C: 0.3 \tG: 0.0004 \t\t 0.49742857142857144\n",
      "C: 0.3 \tG: 0.00045 \t\t 0.49742857142857144\n",
      "C: 0.3 \tG: 0.0005 \t\t 0.49742857142857144\n",
      "C: 0.1 \tG: 5e-05 \t\t 0.9631428571428572\n",
      "C: 0.1 \tG: 0.0001 \t\t 0.9754285714285714\n",
      "C: 0.1 \tG: 0.00015 \t\t 0.9685714285714286\n",
      "C: 0.1 \tG: 0.0002 \t\t 0.5641428571428572\n",
      "C: 0.1 \tG: 0.00025 \t\t 0.49742857142857144\n",
      "C: 0.1 \tG: 0.0003 \t\t 0.49742857142857144\n",
      "C: 0.1 \tG: 0.00035 \t\t 0.49742857142857144\n",
      "C: 0.1 \tG: 0.0004 \t\t 0.49742857142857144\n",
      "C: 0.1 \tG: 0.00045 \t\t 0.49742857142857144\n",
      "C: 0.1 \tG: 0.0005 \t\t 0.49742857142857144\n",
      "[[0.993, 0.993, 0.993, 0.993, 0.992, 0.991, 0.991, 0.991, 0.978, 0.859], [0.993, 0.993, 0.993, 0.993, 0.992, 0.991, 0.991, 0.991, 0.978, 0.859], [0.993, 0.993, 0.993, 0.993, 0.992, 0.991, 0.991, 0.991, 0.978, 0.859], [0.993, 0.993, 0.993, 0.993, 0.992, 0.991, 0.991, 0.991, 0.978, 0.859], [0.992, 0.993, 0.993, 0.993, 0.992, 0.991, 0.991, 0.991, 0.977, 0.841], [0.989, 0.993, 0.993, 0.992, 0.987, 0.808, 0.497, 0.497, 0.497, 0.497], [0.985, 0.991, 0.991, 0.985, 0.938, 0.498, 0.497, 0.497, 0.497, 0.497], [0.963, 0.975, 0.969, 0.564, 0.497, 0.497, 0.497, 0.497, 0.497, 0.497]]\n"
     ]
    }
   ],
   "source": [
    "# generate training and validation set index via cross validation\n",
    "kfold_data = cross_validation(x_train, y_train, k=5)\n",
    "\n",
    "# different C and gamma values to perform grid search\n",
    "C = [10000, 1000, 100, 10, 1, 0.5, 0.3, 0.1]\n",
    "gamma = [0.00005, 0.0001, 0.00015, 0.0002, 0.00025, 0.0003, 0.00035, 0.0004, 0.00045, 0.0005]\n",
    "# save the accuracy scores in result to plot heatmap in Question 3\n",
    "result = []\n",
    "\n",
    "best_score = 0\n",
    "for c in C:\n",
    "    tmp = []\n",
    "    for g in gamma:\n",
    "        # initialize the classifier\n",
    "        clf = SVC(C=c, kernel='rbf', gamma=g)\n",
    "        score = 0\n",
    "        for i in range(len(kfold_data)):\n",
    "            # get the training and validation data\n",
    "            X, Y = [x_train[x] for x in kfold_data[i][0]], [y_train[y] for y in kfold_data[i][0]]\n",
    "            x_val, y_val = [x_train[x] for x in kfold_data[i][1]], [y_train[y] for y in kfold_data[i][1]]\n",
    "            # train the model\n",
    "            clf.fit(X, Y)\n",
    "            # add up the scores of each split\n",
    "            score += accuracy_score(y_val, clf.predict(x_val))\n",
    "        # calculate the average score of the parameters    \n",
    "        score /= len(kfold_data)\n",
    "        tmp.append(round(score, 3))\n",
    "        print(\"C:\", c, \"\\tG:\", g, \"\\t\\t\", score)  \n",
    "        if score > best_score: \n",
    "            best_score, best_parameters = score, (c, g)\n",
    "    result.append(tmp)\n",
    "\n",
    "print(result)    "
   ]
  },
  {
   "cell_type": "code",
   "execution_count": 12,
   "metadata": {},
   "outputs": [
    {
     "name": "stdout",
     "output_type": "stream",
     "text": [
      "(1, 0.0001)\n"
     ]
    }
   ],
   "source": [
    "# (C, gamma)\n",
    "print(best_parameters)"
   ]
  },
  {
   "cell_type": "markdown",
   "metadata": {},
   "source": [
    "## Question 3\n",
    "Plot the grid search results of your SVM. The x, y represents the hyperparameters of “gamma” and “C”, respectively. <br/>\n",
    "And the color represents the average score of validation folds<br/>\n",
    "You reults should be look like this reference image below <br/><br/>\n",
    " ![image](https://miro.medium.com/max/1296/1*wGWTup9r4cVytB5MOnsjdQ.png) "
   ]
  },
  {
   "cell_type": "code",
   "execution_count": 24,
   "metadata": {},
   "outputs": [
    {
     "data": {
      "image/png": "[encoded data removed]",
      "text/plain": [
       "<Figure size 640x480 with 2 Axes>"
      ]
     },
     "metadata": {},
     "output_type": "display_data"
    }
   ],
   "source": [
    "import matplotlib.pyplot as plt\n",
    "\n",
    "result = np.array(result)\n",
    "fig, ax = plt.subplots()\n",
    "im = ax.imshow(result, cmap=\"RdBu\")\n",
    "\n",
    "# Title and X, Y label\n",
    "ax.set_title(\"Hyperparameter Gridsearch\")\n",
    "plt.xlabel(\"Gamma Parameter\")\n",
    "plt.ylabel(\"C Parameter\")\n",
    "ax.set_xticks(np.arange(len(gamma)), labels=gamma)\n",
    "ax.set_yticks(np.arange(len(C)), labels=C)\n",
    "plt.setp(ax.get_xticklabels(), rotation=45, ha=\"right\", rotation_mode=\"anchor\")\n",
    "\n",
    "# Generate text annotations\n",
    "for i in range(len(C)):\n",
    "    for j in range(len(gamma)):\n",
    "        text = ax.text(j, i, result[i, j], ha=\"center\", va=\"center\", color=\"w\", fontsize=8)\n",
    "        \n",
    "# Color bar\n",
    "plt.colorbar(im)\n",
    "plt.show()"
   ]
  },
  {
   "cell_type": "markdown",
   "metadata": {},
   "source": [
    "## Question 4\n",
    "Train your SVM model by the best parameters you found from question 2 on the whole training set and evaluate the performance on the test set."
   ]
  },
  {
   "cell_type": "code",
   "execution_count": 14,
   "metadata": {},
   "outputs": [
    {
     "data": {
      "text/plain": [
       "SVC(gamma=0.0001)"
      ]
     },
     "execution_count": 14,
     "metadata": {},
     "output_type": "execute_result"
    }
   ],
   "source": [
    "best_model = SVC(C=1.0, kernel='rbf', gamma=0.0001)\n",
    "best_model.fit(x_train, y_train)"
   ]
  },
  {
   "cell_type": "code",
   "execution_count": 15,
   "metadata": {},
   "outputs": [
    {
     "ename": "NameError",
     "evalue": "name 'y_test' is not defined",
     "output_type": "error",
     "traceback": [
      "\u001b[0;31m---------------------------------------------------------------------------\u001b[0m",
      "\u001b[0;31mNameError\u001b[0m                                 Traceback (most recent call last)",
      "\u001b[0;32m/var/folders/v9/rjjg9sd921jgcyhvrgcn1nt00000gn/T/ipykernel_4833/2933980920.py\u001b[0m in \u001b[0;36m<module>\u001b[0;34m\u001b[0m\n\u001b[1;32m      1\u001b[0m \u001b[0my_pred\u001b[0m \u001b[0;34m=\u001b[0m \u001b[0mbest_model\u001b[0m\u001b[0;34m.\u001b[0m\u001b[0mpredict\u001b[0m\u001b[0;34m(\u001b[0m\u001b[0mx_test\u001b[0m\u001b[0;34m)\u001b[0m\u001b[0;34m\u001b[0m\u001b[0;34m\u001b[0m\u001b[0m\n\u001b[0;32m----> 2\u001b[0;31m \u001b[0mprint\u001b[0m\u001b[0;34m(\u001b[0m\u001b[0;34m\"Accuracy score: \"\u001b[0m\u001b[0;34m,\u001b[0m \u001b[0maccuracy_score\u001b[0m\u001b[0;34m(\u001b[0m\u001b[0my_pred\u001b[0m\u001b[0;34m,\u001b[0m \u001b[0my_test\u001b[0m\u001b[0;34m)\u001b[0m\u001b[0;34m)\u001b[0m\u001b[0;34m\u001b[0m\u001b[0;34m\u001b[0m\u001b[0m\n\u001b[0m",
      "\u001b[0;31mNameError\u001b[0m: name 'y_test' is not defined"
     ]
    }
   ],
   "source": [
    "y_pred = best_model.predict(x_test)\n",
    "print(\"Accuracy score: \", accuracy_score(y_pred, y_test))"
   ]
  }
 ],
 "metadata": {
  "kernelspec": {
   "display_name": "Python 3.7.9 64-bit",
   "language": "python",
   "name": "python3"
  },
  "language_info": {
   "codemirror_mode": {
    "name": "ipython",
    "version": 3
   },
   "file_extension": ".py",
   "mimetype": "text/x-python",
   "name": "python",
   "nbconvert_exporter": "python",
   "pygments_lexer": "ipython3",
   "version": "3.7.9"
  },
  "vscode": {
   "interpreter": {
    "hash": "aee8b7b246df8f9039afb4144a1f6fd8d2ca17a180786b69acc140d282b71a49"
   }
  }
 },
 "nbformat": 4,
 "nbformat_minor": 4
}

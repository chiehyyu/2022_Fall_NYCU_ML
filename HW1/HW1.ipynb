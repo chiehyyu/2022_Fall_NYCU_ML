{
 "cells": [
  {
   "cell_type": "markdown",
   "metadata": {},
   "source": [
    "## HW1: Logistic regression and Linear Regression using Gradient Descent\n",
    "In hw1, you need to implement linear regression by using only numpy, then train your implemented model by the provided dataset and test the performance with testing data\n",
    "\n",
    "Please note that only **NUMPY** can be used to implement your model, you will get no points by simply calling sklearn.linear_model.LinearRegression"
   ]
  },
  {
   "cell_type": "code",
   "execution_count": 10,
   "metadata": {},
   "outputs": [],
   "source": [
    "import numpy as np\n",
    "import pandas as pd\n",
    "import matplotlib.pyplot as plt"
   ]
  },
  {
   "cell_type": "markdown",
   "metadata": {},
   "source": [
    "# Part 1. Linear regression model"
   ]
  },
  {
   "cell_type": "markdown",
   "metadata": {},
   "source": [
    "## Load regression data"
   ]
  },
  {
   "cell_type": "code",
   "execution_count": 11,
   "metadata": {},
   "outputs": [],
   "source": [
    "x_train, x_test, y_train, y_test = np.load('regression_data.npy', allow_pickle=True)"
   ]
  },
  {
   "cell_type": "code",
   "execution_count": 12,
   "metadata": {},
   "outputs": [
    {
     "data": {
      "text/plain": [
       "[<matplotlib.lines.Line2D at 0x7fb999f5d040>]"
      ]
     },
     "execution_count": 12,
     "metadata": {},
     "output_type": "execute_result"
    },
    {
     "data": {
      "image/png": "[encoded data removed]",
      "text/plain": [
       "<Figure size 432x288 with 1 Axes>"
      ]
     },
     "metadata": {
      "needs_background": "light"
     },
     "output_type": "display_data"
    }
   ],
   "source": [
    "plt.plot(x_train, y_train, '.')"
   ]
  },
  {
   "cell_type": "markdown",
   "metadata": {},
   "source": [
    "## Train your model \n",
    "### Pseudo code:\n",
    "1. Random initialize the weights, intercepts of the linear model\n",
    "\n",
    "**for i in range(iteration)**\n",
    "\n",
    "    2. Feed foward the training data into the model, get the output prediction\n",
    "    3. Calculating training loss by Mean Square Error of predcition and ground truth data\n",
    "    4. Calculating the gradients\n",
    "    5. Updating the weights and intercepts by the gradients * learning rate \n",
    "    \n",
    "**End of training**"
   ]
  },
  {
   "cell_type": "code",
   "execution_count": 13,
   "metadata": {},
   "outputs": [],
   "source": [
    "# calculate mean square error\n",
    "def Mean_square_error(truth, prediction):\n",
    "    sum = 0\n",
    "    # add up the sum of all squared error (prediction - ground truth)\n",
    "    for i in range(truth.size):\n",
    "        tmp = truth[i] - prediction[i]\n",
    "        sum += tmp ** 2\n",
    "    return sum / truth.size\n",
    "linear_loss = [] # storing the loss of every epoch\n",
    "\n",
    "# update the weight and intercept via gradient descent\n",
    "def linear_train(x_train, y_train):\n",
    "    # initialize randomly ~N(0, 1)\n",
    "    W = np.random.normal(0, 1, 2)\n",
    "    epoch = 100 # number of iterations\n",
    "    learning_rate = 0.1 # learning rate \n",
    "    for i in range(epoch):\n",
    "        sum_a = 0\n",
    "        sum_b = 0\n",
    "        for j in range(y_train.size):\n",
    "            # gradient of mean square error\n",
    "            n = y_train[j] - W[0] * x_train[j] - W[1]\n",
    "            sum_a += n * x_train[j]\n",
    "            sum_b += n\n",
    "        # update the weight and intercept\n",
    "        W[0] = W[0] + learning_rate * sum_a / y_train.size\n",
    "        W[1] = W[1] + learning_rate * sum_b / y_train.size\n",
    "        # store the loss of every epoch in linear_loss\n",
    "        linear_loss.append(Mean_square_error(y_train, W[0] * x_train + W[1]))\n",
    "    return W;\n",
    "\n",
    "# predict output via linear regression\n",
    "def linear_regression(x_test):\n",
    "    # get the coefficients\n",
    "    W = linear_train(x_train, y_train)\n",
    "    # calculate prediction\n",
    "    y_pred = np.array([])\n",
    "    y_pred = W[0] * x_test + W[1]\n",
    "    return W[0], W[1], y_pred"
   ]
  },
  {
   "cell_type": "markdown",
   "metadata": {},
   "source": [
    "## Test the performance on the testing data\n",
    "Inference the test data (x_test) by your model and calculate the loss of (y_test, y_pred)"
   ]
  },
  {
   "cell_type": "code",
   "execution_count": 14,
   "metadata": {},
   "outputs": [
    {
     "data": {
      "image/png": "[encoded data removed]",
      "text/plain": [
       "<Figure size 432x288 with 1 Axes>"
      ]
     },
     "metadata": {
      "needs_background": "light"
     },
     "output_type": "display_data"
    },
    {
     "name": "stdout",
     "output_type": "stream",
     "text": [
      "Mean Square Error: 110.42849504890845\n",
      "Weight: 52.74039460801153\n",
      "Intercept: -0.3342211275137895\n"
     ]
    }
   ],
   "source": [
    "# predict output via the linear regression model\n",
    "weight, intercept, y_pred = linear_regression(x_test)\n",
    "\n",
    "# plot the learning curve\n",
    "plt.plot(linear_loss)\n",
    "plt.xlabel('iteration')\n",
    "plt.ylabel('loss')\n",
    "plt.show()\n",
    "\n",
    "# output mean square error\n",
    "print('Mean Square Error:', Mean_square_error(y_test, y_pred)[0])\n",
    "# output weights and intercepts\n",
    "print('Weight:', weight)\n",
    "print('Intercept:', intercept)"
   ]
  },
  {
   "cell_type": "markdown",
   "metadata": {},
   "source": [
    "# Part 2. Logistic regreesion model"
   ]
  },
  {
   "cell_type": "markdown",
   "metadata": {},
   "source": [
    "## Load classification data"
   ]
  },
  {
   "cell_type": "code",
   "execution_count": 15,
   "metadata": {},
   "outputs": [],
   "source": [
    "x_train, x_test, y_train, y_test = np.load('classification_data.npy', allow_pickle=True)"
   ]
  },
  {
   "cell_type": "code",
   "execution_count": 16,
   "metadata": {},
   "outputs": [
    {
     "data": {
      "text/plain": [
       "<matplotlib.collections.PathCollection at 0x7fb9b9ea3d90>"
      ]
     },
     "execution_count": 16,
     "metadata": {},
     "output_type": "execute_result"
    },
    {
     "data": {
      "image/png": "[encoded data removed]",
      "text/plain": [
       "<Figure size 432x288 with 1 Axes>"
      ]
     },
     "metadata": {
      "needs_background": "light"
     },
     "output_type": "display_data"
    }
   ],
   "source": [
    "plt.scatter(x_train, np.ones_like(x_train), c=y_train)"
   ]
  },
  {
   "cell_type": "code",
   "execution_count": 17,
   "metadata": {},
   "outputs": [],
   "source": [
    "# sigmoid function\n",
    "def sigmoid(x):\n",
    "    return 1.0 / (1.0 + np.exp(-x))\n",
    "\n",
    "# calculate the cross entropy error\n",
    "def cross_entropy_error(y_test, y_pred):\n",
    "    ln = np.log\n",
    "    sum = 0\n",
    "    for i in range(len(y_test)):\n",
    "        tmp = y_test[i] * ln(sigmoid(y_pred[i])) + (1 - y_test[i]) * ln(1 - sigmoid(y_pred[i]))\n",
    "        sum += tmp\n",
    "    return -sum\n",
    "logistic_loss = [] # storing the loss of every epoch\n",
    "\n",
    "# update the weight and intercept via gradient descent\n",
    "def logistic_train(x_train, y_train):\n",
    "    # initialize weight and intercept ~N(0, 1)\n",
    "    W = np.random.normal(0, 1, 2)\n",
    "    epoch = 200 # number of iterations\n",
    "    learning_rate = 0.001 # learning rate\n",
    "    # update weight and intercept\n",
    "    for i in range(epoch):\n",
    "        sum_a = 0\n",
    "        sum_b = 0\n",
    "        for j in range(len(y_train)):\n",
    "            # gradient of cross entropy error\n",
    "            n = sigmoid(W[0] * x_train[j] + W[1]) - y_train[j]\n",
    "            sum_a += n * x_train[j]\n",
    "            sum_b += n\n",
    "        W[0] -= learning_rate * sum_a\n",
    "        W[1] -= learning_rate * sum_b\n",
    "        # store the cross entropy loss in logistic_loss\n",
    "        logistic_loss.append(cross_entropy_error(y_train, W[0] * x_train + W[1]))\n",
    "    return W\n",
    "\n",
    "# predict output via logostic regression\n",
    "def logistic_regression(x_test):\n",
    "    # get the coefficients\n",
    "    W = logistic_train(x_train, y_train)\n",
    "    # calculate prediction\n",
    "    y_pred = np.array([])\n",
    "    y_pred = W[0] * x_test + W[1]\n",
    "    return W[0], W[1], y_pred"
   ]
  },
  {
   "cell_type": "code",
   "execution_count": 18,
   "metadata": {},
   "outputs": [
    {
     "data": {
      "image/png": "[encoded data removed]",
      "text/plain": [
       "<Figure size 432x288 with 1 Axes>"
      ]
     },
     "metadata": {
      "needs_background": "light"
     },
     "output_type": "display_data"
    },
    {
     "name": "stdout",
     "output_type": "stream",
     "text": [
      "Cross Entropy Error: 45.417762925320105\n",
      "Weight: 4.218809927370106\n",
      "Intercept: 1.3128500126356886\n"
     ]
    }
   ],
   "source": [
    "# predict output via the linear regression model\n",
    "weight, intercept, y_pred = logistic_regression(x_test)\n",
    "\n",
    "# plot the learning curve\n",
    "plt.plot(logistic_loss)\n",
    "plt.xlabel('iteration')\n",
    "plt.ylabel('loss')\n",
    "plt.show()\n",
    "\n",
    "# output cross entropy error\n",
    "print('Cross Entropy Error:', cross_entropy_error(y_test, y_pred)[0])\n",
    "# output weights and intercepts\n",
    "print('Weight:', weight)\n",
    "print('Intercept:', intercept)"
   ]
  }
 ],
 "metadata": {
  "kernelspec": {
   "display_name": "Python 3.9.7 ('base')",
   "language": "python",
   "name": "python3"
  },
  "language_info": {
   "codemirror_mode": {
    "name": "ipython",
    "version": 3
   },
   "file_extension": ".py",
   "mimetype": "text/x-python",
   "name": "python",
   "nbconvert_exporter": "python",
   "pygments_lexer": "ipython3",
   "version": "3.9.7"
  },
  "vscode": {
   "interpreter": {
    "hash": "c99e77f6e5ce52856c6b615d18f364e9711803ac71a9676e1fc2a50c45cb0d97"
   }
  }
 },
 "nbformat": 4,
 "nbformat_minor": 4
}

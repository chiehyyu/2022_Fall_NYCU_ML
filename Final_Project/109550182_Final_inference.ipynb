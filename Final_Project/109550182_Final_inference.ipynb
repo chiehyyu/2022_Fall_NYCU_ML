{
  "cells": [
    {
      "cell_type": "code",
      "execution_count": 1,
      "metadata": {
        "_kg_hide-input": true,
        "execution": {
          "iopub.execute_input": "2023-01-07T13:07:45.548746Z",
          "iopub.status.busy": "2023-01-07T13:07:45.548328Z",
          "iopub.status.idle": "2023-01-07T13:07:45.554902Z",
          "shell.execute_reply": "2023-01-07T13:07:45.553624Z",
          "shell.execute_reply.started": "2023-01-07T13:07:45.548716Z"
        },
        "id": "J9QgcN6rX9sf",
        "trusted": true
      },
      "outputs": [],
      "source": [
        "import pandas as pd\n",
        "import numpy as np\n",
        "from sklearn.model_selection import GroupKFold\n",
        "from sklearn.preprocessing import LabelEncoder, StandardScaler\n",
        "from sklearn.impute import KNNImputer\n",
        "from sklearn.linear_model import LogisticRegression\n",
        "from sklearn.metrics import roc_auc_score\n",
        "from joblib import load"
      ]
    },
    {
      "cell_type": "code",
      "execution_count": 3,
      "metadata": {
        "execution": {
          "iopub.execute_input": "2023-01-07T13:07:45.564519Z",
          "iopub.status.busy": "2023-01-07T13:07:45.563397Z",
          "iopub.status.idle": "2023-01-07T13:07:45.774661Z",
          "shell.execute_reply": "2023-01-07T13:07:45.773751Z",
          "shell.execute_reply.started": "2023-01-07T13:07:45.564482Z"
        },
        "id": "s5AKJMK5X9sh",
        "trusted": true
      },
      "outputs": [],
      "source": [
        "# read in test.csv\n",
        "test_data = pd.read_csv('test.csv', index_col='id')\n",
        "\n",
        "# feature lists for preprocessing and training\n",
        "missing_list = [feature for feature in test_data.columns if feature == 'loading' or feature.startswith('measurement')]\n",
        "aggregate_list = [feature for feature in test_data.columns if test_data[feature].dtypes == 'float64' and feature != 'loading']\n",
        "chosen_features = ['loading', 'measurement_0', 'measurement_1', 'measurement_2', 'measurement_17', 'attribute_0', 'm3_missing', 'm5_missing', 'area', 'm3_17_avg', 'm3_17_stdev']"
      ]
    },
    {
      "cell_type": "code",
      "execution_count": 4,
      "metadata": {
        "execution": {
          "iopub.execute_input": "2023-01-07T13:07:45.776870Z",
          "iopub.status.busy": "2023-01-07T13:07:45.776313Z",
          "iopub.status.idle": "2023-01-07T13:08:38.987465Z",
          "shell.execute_reply": "2023-01-07T13:08:38.986053Z",
          "shell.execute_reply.started": "2023-01-07T13:07:45.776838Z"
        },
        "id": "AqfoYmdnX9sh",
        "trusted": true
      },
      "outputs": [],
      "source": [
        "# preprocess data features\n",
        "    \n",
        "# add indicators for missing values in measurement 3 & 5\n",
        "test_data['m3_missing'] = test_data.measurement_3.isna()\n",
        "test_data['m5_missing'] = test_data.measurement_5.isna()\n",
        "\n",
        "# fill in missing values\n",
        "imputer = KNNImputer(n_neighbors=15)\n",
        "imputer.fit(test_data[missing_list])\n",
        "test_data[missing_list] = imputer.transform(test_data[missing_list])\n",
        "\n",
        "# label encode string features: product_code, attribute_0, attribute_1\n",
        "test_data['product_code'] = LabelEncoder().fit_transform(test_data['product_code'])\n",
        "test_data['attribute_0'] = LabelEncoder().fit_transform(test_data['attribute_0'])\n",
        "test_data['attribute_1'] = LabelEncoder().fit_transform(test_data['attribute_1'])\n",
        "\n",
        "# clip measurement_2 values that are below 11\n",
        "test_data['measurement_2'] = test_data['measurement_2'].clip(11, None)\n",
        "\n",
        "# add area feature by multiplying attribute_2 and attribute_3\n",
        "test_data['area'] = test_data['attribute_2'] * test_data['attribute_3']\n",
        "\n",
        "# add average and stdev of features, measurement_3 ~ measurement_17\n",
        "test_data['m3_17_avg'] = test_data[aggregate_list].mean(axis=1)\n",
        "test_data['m3_17_stdev'] = test_data[aggregate_list].std(axis=1)\n",
        "\n",
        "# standardize all features\n",
        "test_data[chosen_features] = StandardScaler().fit_transform(test_data[chosen_features])"
      ]
    },
    {
      "cell_type": "code",
      "execution_count": 5,
      "metadata": {
        "execution": {
          "iopub.execute_input": "2023-01-07T13:08:40.038175Z",
          "iopub.status.busy": "2023-01-07T13:08:40.037275Z",
          "iopub.status.idle": "2023-01-07T13:08:41.585067Z",
          "shell.execute_reply": "2023-01-07T13:08:41.583521Z",
          "shell.execute_reply.started": "2023-01-07T13:08:40.038123Z"
        },
        "id": "yBSuF16sX9sj",
        "trusted": true
      },
      "outputs": [],
      "source": [
        "# fit model & make predictions\n",
        "model = LogisticRegression(penalty='l1', C=0.01, solver='liblinear', random_state=1)\n",
        "model = load('weights.joblib') \n",
        "predictions = model.predict_proba(test_data[chosen_features])[:,1]"
      ]
    },
    {
      "cell_type": "code",
      "execution_count": 6,
      "metadata": {
        "execution": {
          "iopub.execute_input": "2023-01-07T13:08:41.589063Z",
          "iopub.status.busy": "2023-01-07T13:08:41.587124Z",
          "iopub.status.idle": "2023-01-07T13:08:41.716864Z",
          "shell.execute_reply": "2023-01-07T13:08:41.715365Z",
          "shell.execute_reply.started": "2023-01-07T13:08:41.588999Z"
        },
        "id": "Sz6GDM2YX9sj",
        "trusted": true
      },
      "outputs": [],
      "source": [
        "# generate submission.csv\n",
        "submission = pd.DataFrame({'id': test_data.index, 'failure': predictions})\n",
        "submission.to_csv('submission.csv', index=False)"
      ]
    }
  ],
  "metadata": {
    "colab": {
      "provenance": []
    },
    "kernelspec": {
      "display_name": "Python 3",
      "language": "python",
      "name": "python3"
    },
    "language_info": {
      "codemirror_mode": {
        "name": "ipython",
        "version": 3
      },
      "file_extension": ".py",
      "mimetype": "text/x-python",
      "name": "python",
      "nbconvert_exporter": "python",
      "pygments_lexer": "ipython3",
      "version": "3.7.9 (v3.7.9:13c94747c7, Aug 15 2020, 01:31:08) \n[Clang 6.0 (clang-600.0.57)]"
    },
    "vscode": {
      "interpreter": {
        "hash": "aee8b7b246df8f9039afb4144a1f6fd8d2ca17a180786b69acc140d282b71a49"
      }
    }
  },
  "nbformat": 4,
  "nbformat_minor": 0
}

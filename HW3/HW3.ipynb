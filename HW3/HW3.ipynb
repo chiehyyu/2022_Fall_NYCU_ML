{
 "cells": [
  {
   "cell_type": "markdown",
   "metadata": {},
   "source": [
    "## HW3: Decision Tree, AdaBoost and Random Forest\n",
    "In hw3, you need to implement decision tree, adaboost and random forest by using only numpy, then train your implemented model by the provided dataset. TA will use the on-hold test label to evaluate your model performance.\n",
    "\n",
    "Please note that only **NUMPY** can be used to implement your model, you will get no points by simply calling `sklearn.tree.DecisionTreeClassifier`"
   ]
  },
  {
   "cell_type": "markdown",
   "metadata": {},
   "source": [
    "## Question 1\n",
    "Gini Index or Entropy is often used for measuring the “best” splitting of the data. Please compute the Entropy and Gini Index of provided data. Please use the formula from [page 5 of hw3 slides](https://docs.google.com/presentation/d/1kIe_-YZdemRMmr_3xDy-l0OS2EcLgDH7Uan14tlU5KE/edit#slide=id.gd542a5ff75_0_15)"
   ]
  },
  {
   "cell_type": "code",
   "execution_count": 1,
   "metadata": {},
   "outputs": [],
   "source": [
    "import numpy as np\n",
    "from sklearn.metrics import accuracy_score"
   ]
  },
  {
   "cell_type": "code",
   "execution_count": 4,
   "metadata": {},
   "outputs": [],
   "source": [
    "# compute the gini index from the given labels\n",
    "def gini(sequence):\n",
    "    # count the appearance of label 1\n",
    "    cnt = 0\n",
    "    for i in range(len(sequence)):\n",
    "        if sequence[i] == 1: cnt += 1\n",
    "    p1 = cnt / len(sequence) # probability of label 1\n",
    "    p2 = 1 - p1 # probability of the other label\n",
    "    n = 1 - p1 ** 2 - p2 ** 2\n",
    "    return n\n",
    "\n",
    "# compute the entropy from the given labels\n",
    "def entropy(sequence):\n",
    "    # count the appearance of label 1\n",
    "    cnt = 0\n",
    "    for i in range(len(sequence)):\n",
    "        if sequence[i] == 1: cnt += 1\n",
    "    p1 = cnt / len(sequence) # probability of label 1\n",
    "    p2 = 1 - p1 # probability of the other label\n",
    "    # handle the case of getting a list having the same label\n",
    "    # to prevent processing zero values in p1 & p2\n",
    "    if not p1 or not p2: return 0\n",
    "    else:\n",
    "        n = - (p1 * np.log2(p1)) - (p2 * np.log2(p2))\n",
    "        return n"
   ]
  },
  {
   "cell_type": "code",
   "execution_count": 5,
   "metadata": {},
   "outputs": [],
   "source": [
    "# 1 = class 1, 2 = class 2\n",
    "data = np.array([1,2,1,1,1,1,2,2,1,1,2])"
   ]
  },
  {
   "cell_type": "code",
   "execution_count": 6,
   "metadata": {},
   "outputs": [
    {
     "name": "stdout",
     "output_type": "stream",
     "text": [
      "Gini of data is  0.4628099173553719\n"
     ]
    }
   ],
   "source": [
    "print(\"Gini of data is \", gini(data))"
   ]
  },
  {
   "cell_type": "code",
   "execution_count": 7,
   "metadata": {},
   "outputs": [
    {
     "name": "stdout",
     "output_type": "stream",
     "text": [
      "Entropy of data is  0.9456603046006401\n"
     ]
    }
   ],
   "source": [
    "print(\"Entropy of data is \", entropy(data))"
   ]
  },
  {
   "cell_type": "markdown",
   "metadata": {},
   "source": [
    "## Load data\n",
    "It is a binary classifiation dataset that classify if price is high or not for a cell phone, the label is stored in `price_range` column."
   ]
  },
  {
   "cell_type": "code",
   "execution_count": 8,
   "metadata": {},
   "outputs": [
    {
     "name": "stdout",
     "output_type": "stream",
     "text": [
      "(1200, 21)\n",
      "(300, 21)\n"
     ]
    },
    {
     "data": {
      "text/html": [
       "<div>\n",
       "<style scoped>\n",
       "    .dataframe tbody tr th:only-of-type {\n",
       "        vertical-align: middle;\n",
       "    }\n",
       "\n",
       "    .dataframe tbody tr th {\n",
       "        vertical-align: top;\n",
       "    }\n",
       "\n",
       "    .dataframe thead th {\n",
       "        text-align: right;\n",
       "    }\n",
       "</style>\n",
       "<table border=\"1\" class=\"dataframe\">\n",
       "  <thead>\n",
       "    <tr style=\"text-align: right;\">\n",
       "      <th></th>\n",
       "      <th>battery_power</th>\n",
       "      <th>blue</th>\n",
       "      <th>clock_speed</th>\n",
       "      <th>dual_sim</th>\n",
       "      <th>fc</th>\n",
       "      <th>four_g</th>\n",
       "      <th>int_memory</th>\n",
       "      <th>m_dep</th>\n",
       "      <th>mobile_wt</th>\n",
       "      <th>n_cores</th>\n",
       "      <th>...</th>\n",
       "      <th>px_height</th>\n",
       "      <th>px_width</th>\n",
       "      <th>ram</th>\n",
       "      <th>sc_h</th>\n",
       "      <th>sc_w</th>\n",
       "      <th>talk_time</th>\n",
       "      <th>three_g</th>\n",
       "      <th>touch_screen</th>\n",
       "      <th>wifi</th>\n",
       "      <th>price_range</th>\n",
       "    </tr>\n",
       "  </thead>\n",
       "  <tbody>\n",
       "    <tr>\n",
       "      <th>0</th>\n",
       "      <td>1883</td>\n",
       "      <td>1</td>\n",
       "      <td>2.7</td>\n",
       "      <td>1</td>\n",
       "      <td>6</td>\n",
       "      <td>1</td>\n",
       "      <td>30</td>\n",
       "      <td>0.5</td>\n",
       "      <td>95</td>\n",
       "      <td>2</td>\n",
       "      <td>...</td>\n",
       "      <td>531</td>\n",
       "      <td>791</td>\n",
       "      <td>3724</td>\n",
       "      <td>16</td>\n",
       "      <td>15</td>\n",
       "      <td>20</td>\n",
       "      <td>1</td>\n",
       "      <td>1</td>\n",
       "      <td>1</td>\n",
       "      <td>1</td>\n",
       "    </tr>\n",
       "    <tr>\n",
       "      <th>1</th>\n",
       "      <td>987</td>\n",
       "      <td>1</td>\n",
       "      <td>1.9</td>\n",
       "      <td>0</td>\n",
       "      <td>4</td>\n",
       "      <td>1</td>\n",
       "      <td>52</td>\n",
       "      <td>0.5</td>\n",
       "      <td>83</td>\n",
       "      <td>3</td>\n",
       "      <td>...</td>\n",
       "      <td>419</td>\n",
       "      <td>736</td>\n",
       "      <td>2757</td>\n",
       "      <td>17</td>\n",
       "      <td>12</td>\n",
       "      <td>15</td>\n",
       "      <td>1</td>\n",
       "      <td>1</td>\n",
       "      <td>0</td>\n",
       "      <td>1</td>\n",
       "    </tr>\n",
       "    <tr>\n",
       "      <th>2</th>\n",
       "      <td>1306</td>\n",
       "      <td>1</td>\n",
       "      <td>2.1</td>\n",
       "      <td>1</td>\n",
       "      <td>2</td>\n",
       "      <td>1</td>\n",
       "      <td>33</td>\n",
       "      <td>0.4</td>\n",
       "      <td>174</td>\n",
       "      <td>3</td>\n",
       "      <td>...</td>\n",
       "      <td>867</td>\n",
       "      <td>1258</td>\n",
       "      <td>2521</td>\n",
       "      <td>6</td>\n",
       "      <td>5</td>\n",
       "      <td>16</td>\n",
       "      <td>1</td>\n",
       "      <td>0</td>\n",
       "      <td>0</td>\n",
       "      <td>1</td>\n",
       "    </tr>\n",
       "    <tr>\n",
       "      <th>3</th>\n",
       "      <td>1611</td>\n",
       "      <td>1</td>\n",
       "      <td>0.5</td>\n",
       "      <td>1</td>\n",
       "      <td>11</td>\n",
       "      <td>0</td>\n",
       "      <td>3</td>\n",
       "      <td>0.6</td>\n",
       "      <td>98</td>\n",
       "      <td>3</td>\n",
       "      <td>...</td>\n",
       "      <td>303</td>\n",
       "      <td>714</td>\n",
       "      <td>1595</td>\n",
       "      <td>8</td>\n",
       "      <td>4</td>\n",
       "      <td>9</td>\n",
       "      <td>1</td>\n",
       "      <td>0</td>\n",
       "      <td>1</td>\n",
       "      <td>0</td>\n",
       "    </tr>\n",
       "    <tr>\n",
       "      <th>4</th>\n",
       "      <td>862</td>\n",
       "      <td>1</td>\n",
       "      <td>0.8</td>\n",
       "      <td>1</td>\n",
       "      <td>3</td>\n",
       "      <td>0</td>\n",
       "      <td>23</td>\n",
       "      <td>0.4</td>\n",
       "      <td>165</td>\n",
       "      <td>2</td>\n",
       "      <td>...</td>\n",
       "      <td>793</td>\n",
       "      <td>1758</td>\n",
       "      <td>278</td>\n",
       "      <td>16</td>\n",
       "      <td>3</td>\n",
       "      <td>11</td>\n",
       "      <td>0</td>\n",
       "      <td>0</td>\n",
       "      <td>1</td>\n",
       "      <td>0</td>\n",
       "    </tr>\n",
       "  </tbody>\n",
       "</table>\n",
       "<p>5 rows × 21 columns</p>\n",
       "</div>"
      ],
      "text/plain": [
       "   battery_power  blue  clock_speed  dual_sim  fc  four_g  int_memory  m_dep  \\\n",
       "0           1883     1          2.7         1   6       1          30    0.5   \n",
       "1            987     1          1.9         0   4       1          52    0.5   \n",
       "2           1306     1          2.1         1   2       1          33    0.4   \n",
       "3           1611     1          0.5         1  11       0           3    0.6   \n",
       "4            862     1          0.8         1   3       0          23    0.4   \n",
       "\n",
       "   mobile_wt  n_cores  ...  px_height  px_width   ram  sc_h  sc_w  talk_time  \\\n",
       "0         95        2  ...        531       791  3724    16    15         20   \n",
       "1         83        3  ...        419       736  2757    17    12         15   \n",
       "2        174        3  ...        867      1258  2521     6     5         16   \n",
       "3         98        3  ...        303       714  1595     8     4          9   \n",
       "4        165        2  ...        793      1758   278    16     3         11   \n",
       "\n",
       "   three_g  touch_screen  wifi  price_range  \n",
       "0        1             1     1            1  \n",
       "1        1             1     0            1  \n",
       "2        1             0     0            1  \n",
       "3        1             0     1            0  \n",
       "4        0             0     1            0  \n",
       "\n",
       "[5 rows x 21 columns]"
      ]
     },
     "execution_count": 8,
     "metadata": {},
     "output_type": "execute_result"
    }
   ],
   "source": [
    "import pandas as pd\n",
    "\n",
    "train_df = pd.read_csv('train.csv')\n",
    "val_df = pd.read_csv('val.csv')\n",
    "\n",
    "x_train = train_df.drop('price_range', axis=1)\n",
    "y_train = train_df.loc[:, \"price_range\"]\n",
    "x_val = val_df.drop('price_range', axis=1)\n",
    "y_val = val_df.loc[:, \"price_range\"]\n",
    "\n",
    "print(train_df.shape)\n",
    "print(val_df.shape)\n",
    "\n",
    "val_df.head()"
   ]
  },
  {
   "cell_type": "markdown",
   "metadata": {},
   "source": [
    "## Question 2\n",
    "Implement the Decision Tree algorithm (CART, Classification and Regression Trees) and train the model by the given arguments, and print the accuracy score on the validation data. You should implement two arguments for the Decision Tree algorithm\n",
    "1. **criterion**: The function to measure the quality of a split. Your model should support `gini` for the Gini impurity and `entropy` for the information gain. \n",
    "2. **max_depth**: The maximum depth of the tree. If `max_depth=None`, then nodes are expanded until all leaves are pure. `max_depth=1` equals to split data once\n"
   ]
  },
  {
   "cell_type": "code",
   "execution_count": 9,
   "metadata": {},
   "outputs": [],
   "source": [
    "class DecisionTree():\n",
    "    def __init__(self, criterion='gini', max_depth=None):\n",
    "        # store the criterion and max_depth for future usage\n",
    "        self.criterion = criterion\n",
    "        self.max_depth = max_depth\n",
    "\n",
    "    # split the dataset based on an attribute's value\n",
    "    # return the left and right child\n",
    "    def try_split(self, index, value, dataset):\n",
    "        left, right = list(), list()\n",
    "        for row in dataset:\n",
    "            if row[index] <= value: left.append(row)\n",
    "            else: right.append(row)\n",
    "        return left, right\n",
    "\n",
    "    # random sample attributes' index for random forest\n",
    "    def sample_features(self, dataset, max_features):\n",
    "        sample_index = np.random.choice(len(dataset[0]) - 1, max_features, replace=False)\n",
    "        return sample_index\n",
    "\n",
    "    # select the best split\n",
    "    def select_split(self, dataset):\n",
    "        # select the best split from the random sampled features for random forest\n",
    "        if self.random_forest == True:\n",
    "            # setup initial values for a node:\n",
    "            #   index: the attribute's index\n",
    "            #   value: the threshold used to split\n",
    "            #   score: purity after spliting (weighted average gini-index or entropy)\n",
    "            #   left & right: left & right child\n",
    "            tmp_index, tmp_value, tmp_score, tmp_left, tmp_right = 999, 9999, 999, None, None\n",
    "            sample_index = self.sample_features(dataset, max_features=self.max_features)\n",
    "            for i in sample_index: # iterate from random sampled index\n",
    "                thresholds = set([row[i] for row in dataset]) # pick out unique values for the certain attribute\n",
    "                for t in thresholds:\n",
    "                    if t == max(thresholds): continue\n",
    "                    left, right = self.try_split(i, t, dataset)\n",
    "                    left_labels = [row[-1] for row in left]\n",
    "                    right_labels = [row[-1] for row in right]\n",
    "                    if self.criterion == 'gini':\n",
    "                        score = (gini(left_labels) * len(left) + gini(right_labels) * len(right)) / (len(left) + len(right))\n",
    "                    else: score = (entropy(left_labels) * len(left) + entropy(right_labels) * len(right)) / (len(left) + len(right))\n",
    "                    # find the split that yields the lowest value of gini or entropy\n",
    "                    if score < tmp_score: # score stores the minimum score in the end\n",
    "                        tmp_index, tmp_value, tmp_score, tmp_left, tmp_right = i, t, score, left, right\n",
    "            return {'index':tmp_index, 'value':tmp_value, 'left':tmp_left, 'right':tmp_right}\n",
    "        else:\n",
    "            tmp_index, tmp_value, tmp_score, tmp_left, tmp_right = 999, 9999, 999, None, None\n",
    "            for i in range(len(dataset[0]) - 1): # iterate from all index\n",
    "                thresholds = set([row[i] for row in dataset]) # pick out unique values for the certain attribute\n",
    "                for t in thresholds:\n",
    "                    if t == max(thresholds): continue\n",
    "                    left, right = self.try_split(i, t, dataset)\n",
    "                    left_labels = [row[-1] for row in left]\n",
    "                    right_labels = [row[-1] for row in right]\n",
    "                    if self.criterion == 'gini':\n",
    "                        score = (gini(left_labels) * len(left) + gini(right_labels) * len(right)) / (len(left) + len(right))\n",
    "                    else: score = (entropy(left_labels) * len(left) + entropy(right_labels) * len(right)) / (len(left) + len(right))\n",
    "                    # find the split that yields the lowest value of gini or entropy\n",
    "                    if score < tmp_score: # score stores the minimum score in the end\n",
    "                        tmp_index, tmp_value, tmp_score, tmp_left, tmp_right = i, t, score, left, right\n",
    "            return {'index':tmp_index, 'value':tmp_value, 'left':tmp_left, 'right':tmp_right}\n",
    "\n",
    "    # create a leaf node\n",
    "    def leaf(self, list):\n",
    "        labels = [row[-1] for row in list]\n",
    "        return max(labels, key=labels.count)\n",
    "\n",
    "    # recursively split the tree and create leaf nodes\n",
    "    def split(self, node, depth):\n",
    "        left, right = node['left'], node['right']\n",
    "\n",
    "        # one side is empty after split\n",
    "        if not left or not right:\n",
    "            node['left'] = node['right'] = self.leaf(left + right)\n",
    "            return\n",
    "        \n",
    "        # max depth constraint\n",
    "        if (self.max_depth != None):\n",
    "            if depth >= self.max_depth:\n",
    "                node['left'], node['right'] = self.leaf(left), self.leaf(right)\n",
    "                return\n",
    "        \n",
    "        # handle left\n",
    "        left_labels = [row[-1] for row in left]\n",
    "        # all belongs to the same class\n",
    "        if not left_labels.count(0) or not left_labels.count(1):\n",
    "            node['left'] = self.leaf(left)\n",
    "        else:\n",
    "            node['left'] = self.select_split(left)\n",
    "            # if cannot split anymore (index got the initial value)\n",
    "            if node['left']['index'] == 999:\n",
    "                node['left'] = self.leaf(left)\n",
    "            # proceed to split\n",
    "            else: self.split(node['left'], depth + 1)\n",
    "        \n",
    "        # handle right\n",
    "        right_labels = [row[-1] for row in right]\n",
    "        # all belongs to the same class\n",
    "        if not right_labels.count(0) or not right_labels.count(1):\n",
    "            node['right'] = self.leaf(right)\n",
    "        else:\n",
    "            node['right'] = self.select_split(right)\n",
    "            # if cannot split anymore (index got the initial value)\n",
    "            if node['right']['index'] == 999:\n",
    "                node['right'] = self.leaf(right)\n",
    "            # proceed to split\n",
    "            else: self.split(node['right'], depth + 1)       \n",
    "\n",
    "    # build the decision tree\n",
    "    def fit(self, x_data, y_data, random_forest=False, max_features=0):\n",
    "        # determine whether we are building random forest\n",
    "        self.random_forest = random_forest\n",
    "        self.max_features = int(max_features)\n",
    "        if isinstance(x_data, pd.DataFrame): \n",
    "            x_data = x_data.values.tolist()\n",
    "            y_data = y_data.values.tolist()\n",
    "        # merge x_data and y_data to dataset\n",
    "        dataset = [list(x_data[i]) + [y_data[i]] for i in range(len(x_data))]\n",
    "        # start to split the tree\n",
    "        self.root = self.select_split(dataset)\n",
    "        self.split(self.root, 1)\n",
    "\n",
    "    # make prediction for one row / instance\n",
    "    def predict_instance(self, node, row):\n",
    "        if row[node['index']] <= node['value']:\n",
    "            if isinstance(node['left'], dict):\n",
    "                return self.predict_instance(node['left'], row)\n",
    "            else: return node['left']\n",
    "        else:\n",
    "            if isinstance(node['right'], dict):\n",
    "                return self.predict_instance(node['right'], row)\n",
    "            else: return node['right']    \n",
    "\n",
    "    # return the array of prediction labels\n",
    "    def predict(self, x_data):\n",
    "        y_predict = []\n",
    "        if isinstance(x_data, pd.DataFrame): x_data = x_data.values.tolist()\n",
    "        for row in x_data:\n",
    "            y_predict.append(self.predict_instance(self.root, row))\n",
    "        y_predict = np.array(y_predict)\n",
    "        return y_predict\n",
    "\n",
    "    # count how many times each feature are chosen to split\n",
    "    def count_feature(self, list, node, x_data):\n",
    "        if isinstance(node, dict):\n",
    "            list[node['index']] += 1\n",
    "            self.count_feature(list, node['left'], x_data)\n",
    "            self.count_feature(list, node['right'], x_data)\n",
    "        return list\n",
    "\n",
    "    # print tree for debugging use\n",
    "    # def print_tree(self, node, depth=0):\n",
    "    #     if isinstance(node, dict):\n",
    "    #         print('%s[Attribute %d < %.3f]' % ((depth*'\\t', (node['index']), node['value'])))\n",
    "    #         self.print_tree(node['left'], depth + 1)\n",
    "    #         self.print_tree(node['right'], depth + 1)\n",
    "    #     else:\n",
    "    #         print('%s[%s]' % ((depth*'\\t', node)))"
   ]
  },
  {
   "cell_type": "markdown",
   "metadata": {},
   "source": [
    "### Question 2.1\n",
    "Using `criterion=gini`, showing the accuracy score of validation data by `max_depth=3` and `max_depth=10`, respectively.\n"
   ]
  },
  {
   "cell_type": "code",
   "execution_count": 137,
   "metadata": {},
   "outputs": [
    {
     "name": "stdout",
     "output_type": "stream",
     "text": [
      "max_depth=3 accuracy:  0.9166666666666666\n",
      "max_depth=10 accuracy:  0.9366666666666666\n"
     ]
    }
   ],
   "source": [
    "# build the decision tree\n",
    "clf_depth3 = DecisionTree(criterion='gini', max_depth=3)\n",
    "clf_depth3.fit(x_train, y_train)\n",
    "# calculate the accuracy score\n",
    "print(\"max_depth=3 accuracy: \", accuracy_score(y_val, clf_depth3.predict(x_val)))\n",
    "\n",
    "# build the decision tree\n",
    "clf_depth10 = DecisionTree(criterion='gini', max_depth=10)\n",
    "clf_depth10.fit(x_train, y_train)\n",
    "# calculate the accuracy score\n",
    "print(\"max_depth=10 accuracy: \", accuracy_score(y_val, clf_depth10.predict(x_val)))"
   ]
  },
  {
   "cell_type": "markdown",
   "metadata": {},
   "source": [
    "### Question 2.2\n",
    "Using `max_depth=3`, showing the accuracy score of validation data by `criterion=gini` and `criterion=entropy`, respectively.\n"
   ]
  },
  {
   "cell_type": "code",
   "execution_count": 138,
   "metadata": {},
   "outputs": [
    {
     "name": "stdout",
     "output_type": "stream",
     "text": [
      "criterion=gini accuracy:  0.9166666666666666\n",
      "criterion=entropy accuracy:  0.93\n"
     ]
    }
   ],
   "source": [
    "# build the decision tree\n",
    "clf_gini = DecisionTree(criterion='gini', max_depth=3)\n",
    "clf_gini.fit(x_train, y_train)\n",
    "# calculate the accuracy score\n",
    "print(\"criterion=gini accuracy: \", accuracy_score(y_val, clf_gini.predict(x_val)))\n",
    "\n",
    "# build the decision tree\n",
    "clf_entropy = DecisionTree(criterion='entropy', max_depth=3)\n",
    "clf_entropy.fit(x_train, y_train)\n",
    "# calculate the accuracy score\n",
    "print(\"criterion=entropy accuracy: \", accuracy_score(y_val, clf_entropy.predict(x_val)))"
   ]
  },
  {
   "cell_type": "markdown",
   "metadata": {},
   "source": [
    "- Note: Your decisition tree scores should over **0.9**. It may suffer from overfitting, if so, you can tune the hyperparameter such as `max_depth`\n",
    "- Note: You should get the same results when re-building the model with the same arguments,  no need to prune the trees\n",
    "- Hint: You can use the recursive method to build the nodes\n"
   ]
  },
  {
   "cell_type": "markdown",
   "metadata": {},
   "source": [
    "## Question 3\n",
    "Plot the [feature importance](https://sefiks.com/2020/04/06/feature-importance-in-decision-trees/) of your Decision Tree model. You can get the feature importance by counting the feature used for splitting data.\n",
    "\n",
    "- You can simply plot the **counts of feature used** for building tree without normalize the importance. Take the figure below as example, outlook feature has been used for splitting for almost 50 times. Therefore, it has the largest importance\n",
    "\n",
    "![image](https://i2.wp.com/sefiks.com/wp-content/uploads/2020/04/c45-fi-results.jpg?w=481&ssl=1)"
   ]
  },
  {
   "cell_type": "code",
   "execution_count": 112,
   "metadata": {},
   "outputs": [
    {
     "data": {
      "image/png": "[encoded data removed]",
      "text/plain": [
       "<Figure size 720x720 with 1 Axes>"
      ]
     },
     "metadata": {
      "needs_background": "light"
     },
     "output_type": "display_data"
    }
   ],
   "source": [
    "import matplotlib.pyplot as plt\n",
    "\n",
    "attributes = [0] * len(x_train.values.tolist()[0])\n",
    "features = clf_depth10.count_feature(attributes, clf_depth10.root, x_train.values.tolist())\n",
    "names = list(x_train.columns)\n",
    "\n",
    "fig, x = plt.subplots(figsize =(10, 10))\n",
    "x.barh(names, features)\n",
    "for s in ['top', 'bottom', 'left', 'right']: x.spines[s].set_visible(False)\n",
    "font = {'size':20}\n",
    "x.set_title(\"Feature Importance\", fontdict=font)\n",
    "x.grid(axis = 'x')\n",
    "plt.show()"
   ]
  },
  {
   "cell_type": "markdown",
   "metadata": {},
   "source": [
    "## Question 4\n",
    "Implement the AdaBooest algorithm by using the CART you just implemented from question 2 as base learner. You should implement one arguments for the AdaBoost.\n",
    "1. **n_estimators**: The maximum number of estimators at which boosting is terminated"
   ]
  },
  {
   "cell_type": "code",
   "execution_count": 10,
   "metadata": {},
   "outputs": [],
   "source": [
    "class AdaBoost():\n",
    "    # initialize the Adaboost \n",
    "    def __init__(self, n_estimators, max_depth=1):\n",
    "        # store n_estimators for future usage\n",
    "        self.n_estimators = n_estimators\n",
    "        # initialize decision trees (the specified amount)\n",
    "        self.trees = [DecisionTree(max_depth)] * n_estimators\n",
    "        # create an array of all alpha value\n",
    "        self.alpha = []\n",
    "\n",
    "    # compute error for the certain weak classifier\n",
    "    def compute_classifier_error(self, tree, x_data, y_data):\n",
    "        sample_index = np.random.choice(len(x_data), len(x_data), replace=True, p=self.w)\n",
    "        sample_index = sample_index.tolist()\n",
    "        boostrap_x = [x_data[i] for i in sample_index]\n",
    "        boostrap_y = [y_data[i] for i in sample_index]\n",
    "        tree.fit(boostrap_x, boostrap_y)\n",
    "        y_pred = tree.predict(x_data)\n",
    "        error = 0\n",
    "        for i in range(len(x_data)):\n",
    "            if y_data[i] != y_pred[i]: error += self.w[i]\n",
    "        return error\n",
    "\n",
    "    # compute weight for the weak classifier\n",
    "    def compute_alpha(self, error):\n",
    "        return np.log((1 - error) / error) / 2\n",
    "\n",
    "    # update data weight according to previous weights and alpha\n",
    "    def update_weight(self, alpha, y_data, y_pred):\n",
    "        flag = []\n",
    "        y_pred = list(y_pred)\n",
    "        for i in range(len(y_data)):\n",
    "            if y_data[i] != y_pred[i]: flag.append(-1)\n",
    "            else: flag.append(1)\n",
    "        flag = np.array(flag)\n",
    "        return self.w * np.exp(-alpha * flag) / sum(self.w)\n",
    "\n",
    "    # train the Adaboost model\n",
    "    def fit(self, x_data, y_data):\n",
    "        if isinstance(x_data, pd.DataFrame):\n",
    "            x_data = x_data.values.tolist()\n",
    "            y_data = y_data.values.tolist()\n",
    "        # initialize uniform weight to each instance\n",
    "        self.w = np.ones(len(x_data)) * 1 / len(x_data)\n",
    "        for i in range(self.n_estimators):\n",
    "            # compute classifier error\n",
    "            clf_error = self.compute_classifier_error(self.trees[i], x_data, y_data)\n",
    "            # weight classifier -> compute alpha\n",
    "            self.alpha.append(self.compute_alpha(clf_error))\n",
    "            # update weight distribution\n",
    "            y_pred = self.trees[i].predict(x_data)\n",
    "            self.update_weight(self.alpha[i], y_data, y_pred)\n",
    "\n",
    "    # make predictions according to the weak classifiers and their weight (alpha)\n",
    "    def predict(self, x_data):\n",
    "        if isinstance(x_data, pd.DataFrame): x_data = x_data.values.tolist()\n",
    "        y_pred = []\n",
    "        for i in range(len(x_data)):\n",
    "            t_pred = 0\n",
    "            for j in range(len(self.trees)):\n",
    "                prediction = self.trees[j].predict_instance(self.trees[j].root, x_data[i])\n",
    "                if prediction == 0: t_pred -= self.alpha[j]\n",
    "                else: t_pred += self.alpha[j]\n",
    "            if t_pred < 0: y_pred.append(0)\n",
    "            else: y_pred.append(1)\n",
    "        y_pred = np.array(y_pred)\n",
    "        return y_pred"
   ]
  },
  {
   "cell_type": "markdown",
   "metadata": {},
   "source": [
    "### Question 4.1\n",
    "Show the accuracy score of validation data by `n_estimators=10` and `n_estimators=100`, respectively.\n"
   ]
  },
  {
   "cell_type": "code",
   "execution_count": 144,
   "metadata": {},
   "outputs": [
    {
     "name": "stdout",
     "output_type": "stream",
     "text": [
      "n_estimators=10 accuracy:  0.92\n",
      "n_estimators=100 accuracy:  0.94\n"
     ]
    }
   ],
   "source": [
    "# train the Adaboost model\n",
    "ada10 = AdaBoost(10)\n",
    "ada10.fit(x_train, y_train)\n",
    "# calculate the accuracy score\n",
    "print(\"n_estimators=10 accuracy: \", accuracy_score(y_val.values.tolist(), ada10.predict(x_val)))\n",
    "\n",
    "# train the Adaboost model\n",
    "ada100 = AdaBoost(100)\n",
    "ada100.fit(x_train, y_train)\n",
    "# calculate the accuracy score\n",
    "print(\"n_estimators=100 accuracy: \", accuracy_score(y_val.values.tolist(), ada100.predict(x_val)))"
   ]
  },
  {
   "cell_type": "markdown",
   "metadata": {},
   "source": [
    "## Question 5\n",
    "implement the Random Forest algorithm by using the CART you just implemented from question 2. You should implement three arguments for the Random Forest.\n",
    "\n",
    "1. **n_estimators**: The number of trees in the forest. \n",
    "2. **max_features**: The number of random select features to consider when looking for the best split\n",
    "3. **bootstrap**: Whether bootstrap samples are used when building tree\n"
   ]
  },
  {
   "cell_type": "code",
   "execution_count": 11,
   "metadata": {},
   "outputs": [],
   "source": [
    "class RandomForest():\n",
    "    def __init__(self, n_estimators, max_features, boostrap=True, criterion='gini', max_depth=None):\n",
    "        # store variables for future usage\n",
    "        self.n_estimators = n_estimators\n",
    "        self.max_features = max_features\n",
    "        self.boostrap = boostrap\n",
    "        self.criterion = criterion\n",
    "        self.max_depth = max_depth\n",
    "        # initialize the decision trees (the specified amount)\n",
    "        self.trees = [DecisionTree(max_depth=max_depth)] * n_estimators\n",
    "\n",
    "    # boostrap sampling \n",
    "    def boostrap_sample(self, x_data, y_data):\n",
    "        sample_index = np.random.choice(len(x_data), len(x_data), replace=True)\n",
    "        sample_index = sample_index.tolist()\n",
    "        boostrap_x = [x_data[x] for x in sample_index]\n",
    "        boostrap_y = [y_data[x] for x in sample_index]\n",
    "        return boostrap_x, boostrap_y\n",
    "\n",
    "    # train the random forest model\n",
    "    def fit(self, x_data, y_data):\n",
    "        if isinstance(x_data, pd.DataFrame):\n",
    "            x_data = x_data.values.tolist()\n",
    "            y_data = y_data.values.tolist()\n",
    "        # build different weak classifiers with random sampled data and features\n",
    "        for i in range(self.n_estimators):\n",
    "            if self.boostrap == True:\n",
    "                # random sample data\n",
    "                x, y = self.boostrap_sample(x_data, y_data)\n",
    "            else: x, y = x_data, y_data\n",
    "            self.trees[i].fit(x, y, random_forest=True, max_features=self.max_features)\n",
    "\n",
    "    # make predictions according to the votes from each weak classifier\n",
    "    def predict(self, x_data):\n",
    "        if isinstance(x_data, pd.DataFrame): x_data = x_data.values.tolist()\n",
    "        y_pred = []\n",
    "        for i in range(len(x_data)):\n",
    "            t_pred = [] # the list to store votes\n",
    "            for j in range(len(self.trees)):\n",
    "                prediction = self.trees[j].predict_instance(self.trees[j].root, x_data[i])\n",
    "                t_pred.append(prediction)\n",
    "            # pick out the majority to be the final prediction\n",
    "            majority = max(t_pred, key=t_pred.count)\n",
    "            y_pred.append(majority)\n",
    "        y_pred = np.array(y_pred)\n",
    "        return y_pred"
   ]
  },
  {
   "cell_type": "markdown",
   "metadata": {},
   "source": [
    "### Question 5.1\n",
    "Using `criterion=gini`, `max_depth=None`, `max_features=sqrt(n_features)`, showing the accuracy score of validation data by `n_estimators=10` and `n_estimators=100`, respectively.\n"
   ]
  },
  {
   "cell_type": "code",
   "execution_count": 146,
   "metadata": {},
   "outputs": [],
   "source": [
    "# initialize the random forest model\n",
    "clf_10tree = RandomForest(n_estimators=10, max_features=np.sqrt(x_train.shape[1]))\n",
    "clf_100tree = RandomForest(n_estimators=100, max_features=np.sqrt(x_train.shape[1]))"
   ]
  },
  {
   "cell_type": "code",
   "execution_count": 147,
   "metadata": {},
   "outputs": [
    {
     "name": "stdout",
     "output_type": "stream",
     "text": [
      "clf_10tree accuracy:  0.8433333333333334\n",
      "clf_100tree accuracy:  0.8466666666666667\n"
     ]
    }
   ],
   "source": [
    "# train the model and calculate accuracy score\n",
    "clf_10tree.fit(x_train, y_train)\n",
    "print(\"clf_10tree accuracy: \", accuracy_score(y_val.values.tolist(), clf_10tree.predict(x_val)))\n",
    "# train the model and calculate accuracy score\n",
    "clf_100tree.fit(x_train, y_train)\n",
    "print(\"clf_100tree accuracy: \", accuracy_score(y_val.values.tolist(), clf_100tree.predict(x_val)))"
   ]
  },
  {
   "cell_type": "markdown",
   "metadata": {},
   "source": [
    "### Question 5.2\n",
    "Using `criterion=gini`, `max_depth=None`, `n_estimators=10`, showing the accuracy score of validation data by `max_features=sqrt(n_features)` and `max_features=n_features`, respectively.\n"
   ]
  },
  {
   "cell_type": "code",
   "execution_count": 118,
   "metadata": {},
   "outputs": [],
   "source": [
    "# initialize the random forest model\n",
    "clf_random_features = RandomForest(n_estimators=10, max_features=np.sqrt(x_train.shape[1]))\n",
    "clf_all_features = RandomForest(n_estimators=10, max_features=x_train.shape[1])"
   ]
  },
  {
   "cell_type": "markdown",
   "metadata": {},
   "source": [
    "- Note: Use majority votes to get the final prediction, you may get slightly different results when re-building the random forest model"
   ]
  },
  {
   "cell_type": "code",
   "execution_count": 148,
   "metadata": {},
   "outputs": [
    {
     "name": "stdout",
     "output_type": "stream",
     "text": [
      "clf_random_features accuracy:  0.84\n",
      "clf_all_features accuracy:  0.94\n"
     ]
    }
   ],
   "source": [
    "# train the model and calculate accuracy score\n",
    "clf_random_features.fit(x_train, y_train)\n",
    "print(\"clf_random_features accuracy: \", accuracy_score(y_val.values.tolist(), clf_random_features.predict(x_val)))\n",
    "# train the model and calculate accuracy score\n",
    "clf_all_features.fit(x_train, y_train)\n",
    "print(\"clf_all_features accuracy: \", accuracy_score(y_val.values.tolist(), clf_all_features.predict(x_val)))"
   ]
  },
  {
   "cell_type": "markdown",
   "metadata": {},
   "source": [
    "### Question 6. Train and tune your model on a real-world dataset\n",
    "Try your best to get higher accuracy score of your model. After parameter tuning, you can train your model on the full dataset (train + val).\n",
    "- Feature engineering\n",
    "- Hyperparameter tuning\n",
    "- Implement any other ensemble methods, such as gradient boosting. Please note that you **can not** call any package. Also, only ensemble method can be used. Neural network method is not allowed to used."
   ]
  },
  {
   "cell_type": "code",
   "execution_count": 12,
   "metadata": {},
   "outputs": [],
   "source": [
    "def train_your_model(data):\n",
    "    ## Define your model and training\n",
    "    if isinstance(data, pd.DataFrame): data = data.values.tolist()\n",
    "    x_data = [row[0:-1] for row in data]\n",
    "    y_data = [row[-1] for row in data]\n",
    "    my_model = AdaBoost(100)\n",
    "    my_model.fit(x_train, y_train)\n",
    "    return my_model"
   ]
  },
  {
   "cell_type": "code",
   "execution_count": 13,
   "metadata": {},
   "outputs": [],
   "source": [
    "train_dataset = pd.concat([train_df, val_df])\n",
    "my_model = train_your_model(train_dataset)"
   ]
  },
  {
   "cell_type": "code",
   "execution_count": 161,
   "metadata": {},
   "outputs": [],
   "source": [
    "x_test = pd.read_csv('x_test.csv')\n",
    "y_pred = my_model.predict(x_test)"
   ]
  },
  {
   "cell_type": "code",
   "execution_count": null,
   "metadata": {},
   "outputs": [],
   "source": [
    "import pickle\n",
    "with open('model.pickle', 'wb') as pkl_file:\n",
    "    pickle.dump(my_model, pkl_file, protocol=pickle.HIGHEST_PROTOCOL)\n",
    "\n",
    "np.save(\"y_pred.npy\", y_pred)"
   ]
  },
  {
   "cell_type": "code",
   "execution_count": 162,
   "metadata": {},
   "outputs": [],
   "source": [
    "assert y_pred.shape == (500, )"
   ]
  },
  {
   "cell_type": "markdown",
   "metadata": {},
   "source": [
    "## Supplementary\n",
    "If you have trouble to implement this homework, TA strongly recommend watching [this video](https://www.youtube.com/watch?v=LDRbO9a6XPU), which explains Decision Tree model clearly. But don't copy code from any resources, try to finish this homework by yourself! "
   ]
  },
  {
   "cell_type": "markdown",
   "metadata": {},
   "source": [
    "### DO NOT MODIFY CODE BELOW"
   ]
  },
  {
   "cell_type": "code",
   "execution_count": 123,
   "metadata": {},
   "outputs": [
    {
     "ename": "FileNotFoundError",
     "evalue": "[Errno 2] No such file or directory: 'y_test.csv'",
     "output_type": "error",
     "traceback": [
      "\u001b[0;31m---------------------------------------------------------------------------\u001b[0m",
      "\u001b[0;31mFileNotFoundError\u001b[0m                         Traceback (most recent call last)",
      "\u001b[0;32m/var/folders/v9/rjjg9sd921jgcyhvrgcn1nt00000gn/T/ipykernel_13188/2371694481.py\u001b[0m in \u001b[0;36m<module>\u001b[0;34m\u001b[0m\n\u001b[1;32m      1\u001b[0m \u001b[0;32mimport\u001b[0m \u001b[0mpandas\u001b[0m \u001b[0;32mas\u001b[0m \u001b[0mpd\u001b[0m\u001b[0;34m\u001b[0m\u001b[0;34m\u001b[0m\u001b[0m\n\u001b[1;32m      2\u001b[0m \u001b[0;32mfrom\u001b[0m \u001b[0msklearn\u001b[0m\u001b[0;34m.\u001b[0m\u001b[0mmetrics\u001b[0m \u001b[0;32mimport\u001b[0m \u001b[0maccuracy_score\u001b[0m\u001b[0;34m\u001b[0m\u001b[0;34m\u001b[0m\u001b[0m\n\u001b[0;32m----> 3\u001b[0;31m \u001b[0my_test\u001b[0m \u001b[0;34m=\u001b[0m \u001b[0mpd\u001b[0m\u001b[0;34m.\u001b[0m\u001b[0mread_csv\u001b[0m\u001b[0;34m(\u001b[0m\u001b[0;34m'y_test.csv'\u001b[0m\u001b[0;34m)\u001b[0m\u001b[0;34m[\u001b[0m\u001b[0;34m'price_range'\u001b[0m\u001b[0;34m]\u001b[0m\u001b[0;34m.\u001b[0m\u001b[0mvalues\u001b[0m\u001b[0;34m\u001b[0m\u001b[0;34m\u001b[0m\u001b[0m\n\u001b[0m\u001b[1;32m      4\u001b[0m \u001b[0;34m\u001b[0m\u001b[0m\n\u001b[1;32m      5\u001b[0m \u001b[0mprint\u001b[0m\u001b[0;34m(\u001b[0m\u001b[0;34m'Test-set accuarcy score: '\u001b[0m\u001b[0;34m,\u001b[0m \u001b[0maccuracy_score\u001b[0m\u001b[0;34m(\u001b[0m\u001b[0my_test\u001b[0m\u001b[0;34m,\u001b[0m \u001b[0my_pred\u001b[0m\u001b[0;34m)\u001b[0m\u001b[0;34m)\u001b[0m\u001b[0;34m\u001b[0m\u001b[0;34m\u001b[0m\u001b[0m\n",
      "\u001b[0;32m~/opt/anaconda3/lib/python3.9/site-packages/pandas/util/_decorators.py\u001b[0m in \u001b[0;36mwrapper\u001b[0;34m(*args, **kwargs)\u001b[0m\n\u001b[1;32m    309\u001b[0m                     \u001b[0mstacklevel\u001b[0m\u001b[0;34m=\u001b[0m\u001b[0mstacklevel\u001b[0m\u001b[0;34m,\u001b[0m\u001b[0;34m\u001b[0m\u001b[0;34m\u001b[0m\u001b[0m\n\u001b[1;32m    310\u001b[0m                 )\n\u001b[0;32m--> 311\u001b[0;31m             \u001b[0;32mreturn\u001b[0m \u001b[0mfunc\u001b[0m\u001b[0;34m(\u001b[0m\u001b[0;34m*\u001b[0m\u001b[0margs\u001b[0m\u001b[0;34m,\u001b[0m \u001b[0;34m**\u001b[0m\u001b[0mkwargs\u001b[0m\u001b[0;34m)\u001b[0m\u001b[0;34m\u001b[0m\u001b[0;34m\u001b[0m\u001b[0m\n\u001b[0m\u001b[1;32m    312\u001b[0m \u001b[0;34m\u001b[0m\u001b[0m\n\u001b[1;32m    313\u001b[0m         \u001b[0;32mreturn\u001b[0m \u001b[0mwrapper\u001b[0m\u001b[0;34m\u001b[0m\u001b[0;34m\u001b[0m\u001b[0m\n",
      "\u001b[0;32m~/opt/anaconda3/lib/python3.9/site-packages/pandas/io/parsers/readers.py\u001b[0m in \u001b[0;36mread_csv\u001b[0;34m(filepath_or_buffer, sep, delimiter, header, names, index_col, usecols, squeeze, prefix, mangle_dupe_cols, dtype, engine, converters, true_values, false_values, skipinitialspace, skiprows, skipfooter, nrows, na_values, keep_default_na, na_filter, verbose, skip_blank_lines, parse_dates, infer_datetime_format, keep_date_col, date_parser, dayfirst, cache_dates, iterator, chunksize, compression, thousands, decimal, lineterminator, quotechar, quoting, doublequote, escapechar, comment, encoding, encoding_errors, dialect, error_bad_lines, warn_bad_lines, on_bad_lines, delim_whitespace, low_memory, memory_map, float_precision, storage_options)\u001b[0m\n\u001b[1;32m    584\u001b[0m     \u001b[0mkwds\u001b[0m\u001b[0;34m.\u001b[0m\u001b[0mupdate\u001b[0m\u001b[0;34m(\u001b[0m\u001b[0mkwds_defaults\u001b[0m\u001b[0;34m)\u001b[0m\u001b[0;34m\u001b[0m\u001b[0;34m\u001b[0m\u001b[0m\n\u001b[1;32m    585\u001b[0m \u001b[0;34m\u001b[0m\u001b[0m\n\u001b[0;32m--> 586\u001b[0;31m     \u001b[0;32mreturn\u001b[0m \u001b[0m_read\u001b[0m\u001b[0;34m(\u001b[0m\u001b[0mfilepath_or_buffer\u001b[0m\u001b[0;34m,\u001b[0m \u001b[0mkwds\u001b[0m\u001b[0;34m)\u001b[0m\u001b[0;34m\u001b[0m\u001b[0;34m\u001b[0m\u001b[0m\n\u001b[0m\u001b[1;32m    587\u001b[0m \u001b[0;34m\u001b[0m\u001b[0m\n\u001b[1;32m    588\u001b[0m \u001b[0;34m\u001b[0m\u001b[0m\n",
      "\u001b[0;32m~/opt/anaconda3/lib/python3.9/site-packages/pandas/io/parsers/readers.py\u001b[0m in \u001b[0;36m_read\u001b[0;34m(filepath_or_buffer, kwds)\u001b[0m\n\u001b[1;32m    480\u001b[0m \u001b[0;34m\u001b[0m\u001b[0m\n\u001b[1;32m    481\u001b[0m     \u001b[0;31m# Create the parser.\u001b[0m\u001b[0;34m\u001b[0m\u001b[0;34m\u001b[0m\u001b[0m\n\u001b[0;32m--> 482\u001b[0;31m     \u001b[0mparser\u001b[0m \u001b[0;34m=\u001b[0m \u001b[0mTextFileReader\u001b[0m\u001b[0;34m(\u001b[0m\u001b[0mfilepath_or_buffer\u001b[0m\u001b[0;34m,\u001b[0m \u001b[0;34m**\u001b[0m\u001b[0mkwds\u001b[0m\u001b[0;34m)\u001b[0m\u001b[0;34m\u001b[0m\u001b[0;34m\u001b[0m\u001b[0m\n\u001b[0m\u001b[1;32m    483\u001b[0m \u001b[0;34m\u001b[0m\u001b[0m\n\u001b[1;32m    484\u001b[0m     \u001b[0;32mif\u001b[0m \u001b[0mchunksize\u001b[0m \u001b[0;32mor\u001b[0m \u001b[0miterator\u001b[0m\u001b[0;34m:\u001b[0m\u001b[0;34m\u001b[0m\u001b[0;34m\u001b[0m\u001b[0m\n",
      "\u001b[0;32m~/opt/anaconda3/lib/python3.9/site-packages/pandas/io/parsers/readers.py\u001b[0m in \u001b[0;36m__init__\u001b[0;34m(self, f, engine, **kwds)\u001b[0m\n\u001b[1;32m    809\u001b[0m             \u001b[0mself\u001b[0m\u001b[0;34m.\u001b[0m\u001b[0moptions\u001b[0m\u001b[0;34m[\u001b[0m\u001b[0;34m\"has_index_names\"\u001b[0m\u001b[0;34m]\u001b[0m \u001b[0;34m=\u001b[0m \u001b[0mkwds\u001b[0m\u001b[0;34m[\u001b[0m\u001b[0;34m\"has_index_names\"\u001b[0m\u001b[0;34m]\u001b[0m\u001b[0;34m\u001b[0m\u001b[0;34m\u001b[0m\u001b[0m\n\u001b[1;32m    810\u001b[0m \u001b[0;34m\u001b[0m\u001b[0m\n\u001b[0;32m--> 811\u001b[0;31m         \u001b[0mself\u001b[0m\u001b[0;34m.\u001b[0m\u001b[0m_engine\u001b[0m \u001b[0;34m=\u001b[0m \u001b[0mself\u001b[0m\u001b[0;34m.\u001b[0m\u001b[0m_make_engine\u001b[0m\u001b[0;34m(\u001b[0m\u001b[0mself\u001b[0m\u001b[0;34m.\u001b[0m\u001b[0mengine\u001b[0m\u001b[0;34m)\u001b[0m\u001b[0;34m\u001b[0m\u001b[0;34m\u001b[0m\u001b[0m\n\u001b[0m\u001b[1;32m    812\u001b[0m \u001b[0;34m\u001b[0m\u001b[0m\n\u001b[1;32m    813\u001b[0m     \u001b[0;32mdef\u001b[0m \u001b[0mclose\u001b[0m\u001b[0;34m(\u001b[0m\u001b[0mself\u001b[0m\u001b[0;34m)\u001b[0m\u001b[0;34m:\u001b[0m\u001b[0;34m\u001b[0m\u001b[0;34m\u001b[0m\u001b[0m\n",
      "\u001b[0;32m~/opt/anaconda3/lib/python3.9/site-packages/pandas/io/parsers/readers.py\u001b[0m in \u001b[0;36m_make_engine\u001b[0;34m(self, engine)\u001b[0m\n\u001b[1;32m   1038\u001b[0m             )\n\u001b[1;32m   1039\u001b[0m         \u001b[0;31m# error: Too many arguments for \"ParserBase\"\u001b[0m\u001b[0;34m\u001b[0m\u001b[0;34m\u001b[0m\u001b[0m\n\u001b[0;32m-> 1040\u001b[0;31m         \u001b[0;32mreturn\u001b[0m \u001b[0mmapping\u001b[0m\u001b[0;34m[\u001b[0m\u001b[0mengine\u001b[0m\u001b[0;34m]\u001b[0m\u001b[0;34m(\u001b[0m\u001b[0mself\u001b[0m\u001b[0;34m.\u001b[0m\u001b[0mf\u001b[0m\u001b[0;34m,\u001b[0m \u001b[0;34m**\u001b[0m\u001b[0mself\u001b[0m\u001b[0;34m.\u001b[0m\u001b[0moptions\u001b[0m\u001b[0;34m)\u001b[0m  \u001b[0;31m# type: ignore[call-arg]\u001b[0m\u001b[0;34m\u001b[0m\u001b[0;34m\u001b[0m\u001b[0m\n\u001b[0m\u001b[1;32m   1041\u001b[0m \u001b[0;34m\u001b[0m\u001b[0m\n\u001b[1;32m   1042\u001b[0m     \u001b[0;32mdef\u001b[0m \u001b[0m_failover_to_python\u001b[0m\u001b[0;34m(\u001b[0m\u001b[0mself\u001b[0m\u001b[0;34m)\u001b[0m\u001b[0;34m:\u001b[0m\u001b[0;34m\u001b[0m\u001b[0;34m\u001b[0m\u001b[0m\n",
      "\u001b[0;32m~/opt/anaconda3/lib/python3.9/site-packages/pandas/io/parsers/c_parser_wrapper.py\u001b[0m in \u001b[0;36m__init__\u001b[0;34m(self, src, **kwds)\u001b[0m\n\u001b[1;32m     49\u001b[0m \u001b[0;34m\u001b[0m\u001b[0m\n\u001b[1;32m     50\u001b[0m         \u001b[0;31m# open handles\u001b[0m\u001b[0;34m\u001b[0m\u001b[0;34m\u001b[0m\u001b[0m\n\u001b[0;32m---> 51\u001b[0;31m         \u001b[0mself\u001b[0m\u001b[0;34m.\u001b[0m\u001b[0m_open_handles\u001b[0m\u001b[0;34m(\u001b[0m\u001b[0msrc\u001b[0m\u001b[0;34m,\u001b[0m \u001b[0mkwds\u001b[0m\u001b[0;34m)\u001b[0m\u001b[0;34m\u001b[0m\u001b[0;34m\u001b[0m\u001b[0m\n\u001b[0m\u001b[1;32m     52\u001b[0m         \u001b[0;32massert\u001b[0m \u001b[0mself\u001b[0m\u001b[0;34m.\u001b[0m\u001b[0mhandles\u001b[0m \u001b[0;32mis\u001b[0m \u001b[0;32mnot\u001b[0m \u001b[0;32mNone\u001b[0m\u001b[0;34m\u001b[0m\u001b[0;34m\u001b[0m\u001b[0m\n\u001b[1;32m     53\u001b[0m \u001b[0;34m\u001b[0m\u001b[0m\n",
      "\u001b[0;32m~/opt/anaconda3/lib/python3.9/site-packages/pandas/io/parsers/base_parser.py\u001b[0m in \u001b[0;36m_open_handles\u001b[0;34m(self, src, kwds)\u001b[0m\n\u001b[1;32m    220\u001b[0m         \u001b[0mLet\u001b[0m \u001b[0mthe\u001b[0m \u001b[0mreaders\u001b[0m \u001b[0mopen\u001b[0m \u001b[0mIOHandles\u001b[0m \u001b[0mafter\u001b[0m \u001b[0mthey\u001b[0m \u001b[0mare\u001b[0m \u001b[0mdone\u001b[0m \u001b[0;32mwith\u001b[0m \u001b[0mtheir\u001b[0m \u001b[0mpotential\u001b[0m \u001b[0mraises\u001b[0m\u001b[0;34m.\u001b[0m\u001b[0;34m\u001b[0m\u001b[0;34m\u001b[0m\u001b[0m\n\u001b[1;32m    221\u001b[0m         \"\"\"\n\u001b[0;32m--> 222\u001b[0;31m         self.handles = get_handle(\n\u001b[0m\u001b[1;32m    223\u001b[0m             \u001b[0msrc\u001b[0m\u001b[0;34m,\u001b[0m\u001b[0;34m\u001b[0m\u001b[0;34m\u001b[0m\u001b[0m\n\u001b[1;32m    224\u001b[0m             \u001b[0;34m\"r\"\u001b[0m\u001b[0;34m,\u001b[0m\u001b[0;34m\u001b[0m\u001b[0;34m\u001b[0m\u001b[0m\n",
      "\u001b[0;32m~/opt/anaconda3/lib/python3.9/site-packages/pandas/io/common.py\u001b[0m in \u001b[0;36mget_handle\u001b[0;34m(path_or_buf, mode, encoding, compression, memory_map, is_text, errors, storage_options)\u001b[0m\n\u001b[1;32m    700\u001b[0m         \u001b[0;32mif\u001b[0m \u001b[0mioargs\u001b[0m\u001b[0;34m.\u001b[0m\u001b[0mencoding\u001b[0m \u001b[0;32mand\u001b[0m \u001b[0;34m\"b\"\u001b[0m \u001b[0;32mnot\u001b[0m \u001b[0;32min\u001b[0m \u001b[0mioargs\u001b[0m\u001b[0;34m.\u001b[0m\u001b[0mmode\u001b[0m\u001b[0;34m:\u001b[0m\u001b[0;34m\u001b[0m\u001b[0;34m\u001b[0m\u001b[0m\n\u001b[1;32m    701\u001b[0m             \u001b[0;31m# Encoding\u001b[0m\u001b[0;34m\u001b[0m\u001b[0;34m\u001b[0m\u001b[0m\n\u001b[0;32m--> 702\u001b[0;31m             handle = open(\n\u001b[0m\u001b[1;32m    703\u001b[0m                 \u001b[0mhandle\u001b[0m\u001b[0;34m,\u001b[0m\u001b[0;34m\u001b[0m\u001b[0;34m\u001b[0m\u001b[0m\n\u001b[1;32m    704\u001b[0m                 \u001b[0mioargs\u001b[0m\u001b[0;34m.\u001b[0m\u001b[0mmode\u001b[0m\u001b[0;34m,\u001b[0m\u001b[0;34m\u001b[0m\u001b[0;34m\u001b[0m\u001b[0m\n",
      "\u001b[0;31mFileNotFoundError\u001b[0m: [Errno 2] No such file or directory: 'y_test.csv'"
     ]
    }
   ],
   "source": [
    "import pandas as pd\n",
    "from sklearn.metrics import accuracy_score\n",
    "y_test = pd.read_csv('y_test.csv')['price_range'].values\n",
    "\n",
    "print('Test-set accuarcy score: ', accuracy_score(y_test, y_pred))"
   ]
  },
  {
   "cell_type": "code",
   "execution_count": 163,
   "metadata": {},
   "outputs": [
    {
     "name": "stdout",
     "output_type": "stream",
     "text": [
      "*** We will check your result for Question 3 manually *** (5 points)\n",
      "*** We will check your result for Question 6 manually *** (20 points)\n",
      "Approximate score range: 45.0 ~ 70.0\n",
      "*** This score is only for reference ***\n"
     ]
    }
   ],
   "source": [
    "def discrete_checker(score, thres, clf, name, x_train, y_train, x_test, y_test):\n",
    "    clf.fit(x_train, y_train)\n",
    "    y_pred = clf.predict(x_test)\n",
    "    if accuracy_score(y_test, y_pred) - thres >= 0:\n",
    "        return score\n",
    "    else:\n",
    "        print(f\"{name} failed\")\n",
    "        return 0\n",
    "\n",
    "\n",
    "def patient_checker(score, thres, CLS, kwargs, name,\n",
    "                    x_train, y_train, x_test, y_test, patient=10):\n",
    "    while patient > 0:\n",
    "        patient -= 1\n",
    "        clf = CLS(**kwargs)\n",
    "        clf.fit(x_train, y_train)\n",
    "        y_pred = clf.predict(x_test)\n",
    "        if accuracy_score(y_test, y_pred) - thres >= 0:\n",
    "            return score\n",
    "    print(f\"{name} failed\")\n",
    "    print(\"Considering the randomness, we will check it manually\")\n",
    "    return 0\n",
    "\n",
    "\n",
    "def load_dataset():\n",
    "    file_url = \"http://storage.googleapis.com/download.tensorflow.org/data/abalone_train.csv\"\n",
    "    df = pd.read_csv(\n",
    "        file_url,\n",
    "        names=[\"Length\", \"Diameter\", \"Height\", \"Whole weight\", \"Shucked weight\",\n",
    "               \"Viscera weight\", \"Shell weight\", \"Age\"]\n",
    "    )\n",
    "\n",
    "    df['Target'] = (df[\"Age\"] > 15).astype(int)\n",
    "    df = df.drop(labels=[\"Age\"], axis=\"columns\")\n",
    "\n",
    "    train_idx = range(0, len(df), 10)\n",
    "    test_idx = range(1, len(df), 20)\n",
    "\n",
    "    train_df = df.iloc[train_idx]\n",
    "    test_df = df.iloc[test_idx]\n",
    "\n",
    "    x_train = train_df.drop(labels=[\"Target\"], axis=\"columns\")\n",
    "    feature_names = x_train.columns.values\n",
    "    x_train = x_train.values\n",
    "    y_train = train_df['Target'].values\n",
    "\n",
    "    x_test = test_df.drop(labels=[\"Target\"], axis=\"columns\")\n",
    "    x_test = x_test.values\n",
    "    y_test = test_df['Target'].values\n",
    "    return x_train, y_train, x_test, y_test, feature_names\n",
    "\n",
    "\n",
    "score = 0\n",
    "\n",
    "data = np.array([1, 2])\n",
    "if abs(gini(data) - 0.5) < 1e-4:\n",
    "    score += 2.5\n",
    "else:\n",
    "    print(\"gini test failed\")\n",
    "\n",
    "if abs(entropy(data) - 1) < 1e-4:\n",
    "    score += 2.5\n",
    "else:\n",
    "    print(\"entropy test failed\")\n",
    "\n",
    "x_train, y_train, x_test, y_test, feature_names = load_dataset()\n",
    "\n",
    "score += discrete_checker(5, 0.9337,\n",
    "                          DecisionTree(criterion='gini', max_depth=3),\n",
    "                          \"DecisionTree(criterion='gini', max_depth=3)\",\n",
    "                          x_train, y_train, x_test, y_test\n",
    "                          )\n",
    "\n",
    "score += discrete_checker(2.5, 0.9036,\n",
    "                          DecisionTree(criterion='gini', max_depth=10),\n",
    "                          \"DecisionTree(criterion='gini', max_depth=10)\",\n",
    "                          x_train, y_train, x_test, y_test\n",
    "                          )\n",
    "\n",
    "score += discrete_checker(2.5, 0.9096,\n",
    "                          DecisionTree(criterion='entropy', max_depth=3),\n",
    "                          \"DecisionTree(criterion='entropy', max_depth=3)\",\n",
    "                          x_train, y_train, x_test, y_test\n",
    "                          )\n",
    "\n",
    "print(\"*** We will check your result for Question 3 manually *** (5 points)\")\n",
    "\n",
    "score += patient_checker(\n",
    "    7.5, 0.91, AdaBoost, {\"n_estimators\": 10},\n",
    "    \"AdaBoost(n_estimators=10)\",\n",
    "    x_train, y_train, x_test, y_test\n",
    ")\n",
    "\n",
    "score += patient_checker(\n",
    "    7.5, 0.87, AdaBoost, {\"n_estimators\": 100},\n",
    "    \"AdaBoost(n_estimators=100)\",\n",
    "    x_train, y_train, x_test, y_test\n",
    ")\n",
    "\n",
    "score += patient_checker(\n",
    "    5, 0.91, RandomForest,\n",
    "    {\"n_estimators\": 10, \"max_features\": np.sqrt(x_train.shape[1])},\n",
    "    \"RandomForest(n_estimators=10, max_features=sqrt(n_features))\",\n",
    "    x_train, y_train, x_test, y_test\n",
    ")\n",
    "\n",
    "score += patient_checker(\n",
    "    5, 0.91, RandomForest,\n",
    "    {\"n_estimators\": 100, \"max_features\": np.sqrt(x_train.shape[1])},\n",
    "    \"RandomForest(n_estimators=100, max_features=sqrt(n_features))\",\n",
    "    x_train, y_train, x_test, y_test\n",
    ")\n",
    "\n",
    "score += patient_checker(\n",
    "    5, 0.92, RandomForest,\n",
    "    {\"n_estimators\": 10, \"max_features\": x_train.shape[1]},\n",
    "    \"RandomForest(n_estimators=10, max_features=n_features)\",\n",
    "    x_train, y_train, x_test, y_test\n",
    ")\n",
    "\n",
    "print(\"*** We will check your result for Question 6 manually *** (20 points)\")\n",
    "print(\"Approximate score range:\", score, \"~\", score + 25)\n",
    "print(\"*** This score is only for reference ***\")\n"
   ]
  }
 ],
 "metadata": {
  "kernelspec": {
   "display_name": "Python 3.7.9 64-bit",
   "language": "python",
   "name": "python3"
  },
  "language_info": {
   "codemirror_mode": {
    "name": "ipython",
    "version": 3
   },
   "file_extension": ".py",
   "mimetype": "text/x-python",
   "name": "python",
   "nbconvert_exporter": "python",
   "pygments_lexer": "ipython3",
   "version": "3.7.9"
  },
  "vscode": {
   "interpreter": {
    "hash": "aee8b7b246df8f9039afb4144a1f6fd8d2ca17a180786b69acc140d282b71a49"
   }
  }
 },
 "nbformat": 4,
 "nbformat_minor": 4
}

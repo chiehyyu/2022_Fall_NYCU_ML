{
 "cells": [
  {
   "cell_type": "code",
   "execution_count": null,
   "metadata": {},
   "outputs": [],
   "source": [
    "import pickle\n",
    "import pandas as pd\n",
    "import numpy as np\n",
    "\n",
    "train_df = pd.read_csv('train.csv')\n",
    "val_df = pd.read_csv('val.csv')\n",
    "\n",
    "\n",
    "'''\n",
    "    Some Code to train your \"my_model\"\n",
    "'''\n",
    "\n",
    "x_test = read_and_prepare_data('x_test.csv')\n",
    "y_pred = my_model.predict(x_test)\n",
    "\n",
    "\n",
    "with open('model.pickle', 'wb') as pkl_file:\n",
    "    pickle.dump(my_model, pkl_file, protocol=pickle.HIGHEST_PROTOCOL)\n",
    "\n",
    "np.save(\"y_pred.npy\", y_pred)\n"
   ]
  }
 ],
 "metadata": {
  "kernelspec": {
   "display_name": "Python 3.10.3 64-bit",
   "language": "python",
   "name": "python3"
  },
  "language_info": {
   "name": "python",
   "version": "3.10.3"
  },
  "orig_nbformat": 4,
  "vscode": {
   "interpreter": {
    "hash": "8c9afcc29181526987d0b385fb14ac7bec129a3a1f159e207d0db8e842e65205"
   }
  }
 },
 "nbformat": 4,
 "nbformat_minor": 2
}
